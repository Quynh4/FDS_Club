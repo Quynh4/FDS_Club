{
 "cells": [
  {
   "cell_type": "code",
   "execution_count": 17,
   "id": "a8f73621",
   "metadata": {},
   "outputs": [],
   "source": [
    "import matplotlib.pyplot as plt\n",
    "import numpy\n",
    "import pandas\n",
    "from sklearn.datasets import load_iris"
   ]
  },
  {
   "cell_type": "code",
   "execution_count": 25,
   "id": "4427cef4",
   "metadata": {},
   "outputs": [],
   "source": [
    "X = load_iris().data\n",
    "X = numpy.array([[1] + list([val[2]]) for val in X])\n",
    "Y = numpy.array([[val[3]] for val in load_iris().data])"
   ]
  },
  {
   "cell_type": "code",
   "execution_count": 26,
   "id": "39129f85",
   "metadata": {},
   "outputs": [],
   "source": [
    "w = numpy.linalg.pinv(numpy.dot(X.T, X))\n",
    "w = numpy.dot(w,X.T)\n",
    "w = numpy.dot(w,Y)"
   ]
  },
  {
   "cell_type": "code",
   "execution_count": 27,
   "id": "eb9bc59d",
   "metadata": {},
   "outputs": [],
   "source": [
    "def f(x):\n",
    "    return x*w[1] + w[0]"
   ]
  },
  {
   "cell_type": "code",
   "execution_count": 31,
   "id": "dcc87c32",
   "metadata": {},
   "outputs": [
    {
     "data": {
      "text/plain": [
       "[<matplotlib.lines.Line2D at 0x22a6882ad10>]"
      ]
     },
     "execution_count": 31,
     "metadata": {},
     "output_type": "execute_result"
    },
    {
     "data": {
      "image/png": "[encoded data removed]",
      "text/plain": [
       "<Figure size 640x480 with 1 Axes>"
      ]
     },
     "metadata": {},
     "output_type": "display_data"
    }
   ],
   "source": [
    "sm_x = numpy.arange(0,8)\n",
    "plt.scatter([val[1] for val in X],[val[0] for val in Y])\n",
    "plt.plot(sm_x, f(sm_x), c='r')"
   ]
  },
  {
   "cell_type": "code",
   "execution_count": 32,
   "id": "4e641f02",
   "metadata": {},
   "outputs": [
    {
     "data": {
      "text/html": [
       "<div>\n",
       "<style scoped>\n",
       "    .dataframe tbody tr th:only-of-type {\n",
       "        vertical-align: middle;\n",
       "    }\n",
       "\n",
       "    .dataframe tbody tr th {\n",
       "        vertical-align: top;\n",
       "    }\n",
       "\n",
       "    .dataframe thead th {\n",
       "        text-align: right;\n",
       "    }\n",
       "</style>\n",
       "<table border=\"1\" class=\"dataframe\">\n",
       "  <thead>\n",
       "    <tr style=\"text-align: right;\">\n",
       "      <th></th>\n",
       "      <th>RegionalMember</th>\n",
       "      <th>Year</th>\n",
       "      <th>Inflation</th>\n",
       "      <th>Unit of Measurement</th>\n",
       "      <th>Subregion</th>\n",
       "      <th>Country Code</th>\n",
       "    </tr>\n",
       "  </thead>\n",
       "  <tbody>\n",
       "    <tr>\n",
       "      <th>0</th>\n",
       "      <td>Developing Asia</td>\n",
       "      <td>2018</td>\n",
       "      <td>2.7</td>\n",
       "      <td>%</td>\n",
       "      <td>NaN</td>\n",
       "      <td>NaN</td>\n",
       "    </tr>\n",
       "    <tr>\n",
       "      <th>1</th>\n",
       "      <td>Developing Asia</td>\n",
       "      <td>2019</td>\n",
       "      <td>3.2</td>\n",
       "      <td>%</td>\n",
       "      <td>NaN</td>\n",
       "      <td>NaN</td>\n",
       "    </tr>\n",
       "    <tr>\n",
       "      <th>2</th>\n",
       "      <td>Developing Asia</td>\n",
       "      <td>2020</td>\n",
       "      <td>3.3</td>\n",
       "      <td>%</td>\n",
       "      <td>NaN</td>\n",
       "      <td>NaN</td>\n",
       "    </tr>\n",
       "    <tr>\n",
       "      <th>3</th>\n",
       "      <td>Developing Asia</td>\n",
       "      <td>2021</td>\n",
       "      <td>2.6</td>\n",
       "      <td>%</td>\n",
       "      <td>NaN</td>\n",
       "      <td>NaN</td>\n",
       "    </tr>\n",
       "    <tr>\n",
       "      <th>4</th>\n",
       "      <td>Developing Asia</td>\n",
       "      <td>2022</td>\n",
       "      <td>4.4</td>\n",
       "      <td>%</td>\n",
       "      <td>NaN</td>\n",
       "      <td>NaN</td>\n",
       "    </tr>\n",
       "    <tr>\n",
       "      <th>...</th>\n",
       "      <td>...</td>\n",
       "      <td>...</td>\n",
       "      <td>...</td>\n",
       "      <td>...</td>\n",
       "      <td>...</td>\n",
       "      <td>...</td>\n",
       "    </tr>\n",
       "    <tr>\n",
       "      <th>366</th>\n",
       "      <td>Vanuatu</td>\n",
       "      <td>2020</td>\n",
       "      <td>5.3</td>\n",
       "      <td>%</td>\n",
       "      <td>The Pacific</td>\n",
       "      <td>VUT</td>\n",
       "    </tr>\n",
       "    <tr>\n",
       "      <th>367</th>\n",
       "      <td>Vanuatu</td>\n",
       "      <td>2021</td>\n",
       "      <td>2.3</td>\n",
       "      <td>%</td>\n",
       "      <td>The Pacific</td>\n",
       "      <td>VUT</td>\n",
       "    </tr>\n",
       "    <tr>\n",
       "      <th>368</th>\n",
       "      <td>Vanuatu</td>\n",
       "      <td>2022</td>\n",
       "      <td>4.8</td>\n",
       "      <td>%</td>\n",
       "      <td>The Pacific</td>\n",
       "      <td>VUT</td>\n",
       "    </tr>\n",
       "    <tr>\n",
       "      <th>369</th>\n",
       "      <td>Vanuatu</td>\n",
       "      <td>2023 forecast</td>\n",
       "      <td>4.0</td>\n",
       "      <td>%</td>\n",
       "      <td>The Pacific</td>\n",
       "      <td>VUT</td>\n",
       "    </tr>\n",
       "    <tr>\n",
       "      <th>370</th>\n",
       "      <td>Vanuatu</td>\n",
       "      <td>2024 forecast</td>\n",
       "      <td>3.0</td>\n",
       "      <td>%</td>\n",
       "      <td>The Pacific</td>\n",
       "      <td>VUT</td>\n",
       "    </tr>\n",
       "  </tbody>\n",
       "</table>\n",
       "<p>371 rows × 6 columns</p>\n",
       "</div>"
      ],
      "text/plain": [
       "      RegionalMember           Year  Inflation Unit of Measurement  \\\n",
       "0    Developing Asia           2018        2.7                   %   \n",
       "1    Developing Asia           2019        3.2                   %   \n",
       "2    Developing Asia           2020        3.3                   %   \n",
       "3    Developing Asia           2021        2.6                   %   \n",
       "4    Developing Asia           2022        4.4                   %   \n",
       "..               ...            ...        ...                 ...   \n",
       "366          Vanuatu           2020        5.3                   %   \n",
       "367          Vanuatu           2021        2.3                   %   \n",
       "368          Vanuatu           2022        4.8                   %   \n",
       "369          Vanuatu  2023 forecast        4.0                   %   \n",
       "370          Vanuatu  2024 forecast        3.0                   %   \n",
       "\n",
       "       Subregion  Country Code  \n",
       "0            NaN           NaN  \n",
       "1            NaN           NaN  \n",
       "2            NaN           NaN  \n",
       "3            NaN           NaN  \n",
       "4            NaN           NaN  \n",
       "..           ...           ...  \n",
       "366  The Pacific           VUT  \n",
       "367  The Pacific           VUT  \n",
       "368  The Pacific           VUT  \n",
       "369  The Pacific           VUT  \n",
       "370  The Pacific           VUT  \n",
       "\n",
       "[371 rows x 6 columns]"
      ]
     },
     "execution_count": 32,
     "metadata": {},
     "output_type": "execute_result"
    }
   ],
   "source": [
    "data = pandas.read_csv('Inflation.csv', encoding = 'cp1252')\n",
    "data"
   ]
  },
  {
   "cell_type": "code",
   "execution_count": 33,
   "id": "a5fb41c0",
   "metadata": {},
   "outputs": [],
   "source": [
    "X = [18,19,20,21,22,23,24]\n",
    "X = numpy.array([[1] + list([val]) for val in X])\n",
    "Y = [3.5,2.8,3.2,1.8,3.2,4.5,4.2]\n",
    "Y = numpy.array([[val] for val in Y])"
   ]
  },
  {
   "cell_type": "code",
   "execution_count": 36,
   "id": "b1888e21",
   "metadata": {},
   "outputs": [
    {
     "data": {
      "text/plain": [
       "[<matplotlib.lines.Line2D at 0x22a6cc84ee0>]"
      ]
     },
     "execution_count": 36,
     "metadata": {},
     "output_type": "execute_result"
    },
    {
     "data": {
      "image/png": "[encoded data removed]",
      "text/plain": [
       "<Figure size 640x480 with 1 Axes>"
      ]
     },
     "metadata": {},
     "output_type": "display_data"
    }
   ],
   "source": [
    "sm_x = numpy.arange(10,28)\n",
    "plt.scatter([val[1] for val in X],[val[0] for val in Y])\n",
    "plt.plot(sm_x, f(sm_x), c='r')"
   ]
  }
 ],
 "metadata": {
  "kernelspec": {
   "display_name": "Python 3 (ipykernel)",
   "language": "python",
   "name": "python3"
  },
  "language_info": {
   "codemirror_mode": {
    "name": "ipython",
    "version": 3
   },
   "file_extension": ".py",
   "mimetype": "text/x-python",
   "name": "python",
   "nbconvert_exporter": "python",
   "pygments_lexer": "ipython3",
   "version": "3.10.9"
  }
 },
 "nbformat": 4,
 "nbformat_minor": 5
}
