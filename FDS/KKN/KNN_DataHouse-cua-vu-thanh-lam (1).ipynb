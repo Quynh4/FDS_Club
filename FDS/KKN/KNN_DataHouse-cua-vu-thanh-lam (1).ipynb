{
 "cells": [
  {
   "cell_type": "code",
   "execution_count": 1,
   "id": "73e979ae-5702-4a7b-9c26-48c6bf2dbf6a",
   "metadata": {},
   "outputs": [],
   "source": [
    "import numpy\n",
    "import pandas\n",
    "import matplotlib.pyplot as plt\n",
    "import random"
   ]
  },
  {
   "cell_type": "code",
   "execution_count": 3,
   "id": "6ef5a902-51f0-49e9-84e3-4eae72f8b7e6",
   "metadata": {},
   "outputs": [],
   "source": [
    "data = pandas.read_csv(\"C:\\\\Users\\\\ADMIN\\\\Desktop\\\\dataset\\\\house price\\\\data.csv\")\n",
    "data = data.drop(['date','street','city','statezip','country','bathrooms','waterfront','view','condition','yr_built','yr_renovated'], axis = 1)"
   ]
  },
  {
   "cell_type": "code",
   "execution_count": 4,
   "id": "ef18f549-f32b-4a4c-be52-9a902a52db28",
   "metadata": {},
   "outputs": [
    {
     "data": {
      "text/html": [
       "<div>\n",
       "<style scoped>\n",
       "    .dataframe tbody tr th:only-of-type {\n",
       "        vertical-align: middle;\n",
       "    }\n",
       "\n",
       "    .dataframe tbody tr th {\n",
       "        vertical-align: top;\n",
       "    }\n",
       "\n",
       "    .dataframe thead th {\n",
       "        text-align: right;\n",
       "    }\n",
       "</style>\n",
       "<table border=\"1\" class=\"dataframe\">\n",
       "  <thead>\n",
       "    <tr style=\"text-align: right;\">\n",
       "      <th></th>\n",
       "      <th>price</th>\n",
       "      <th>bedrooms</th>\n",
       "      <th>sqft_living</th>\n",
       "      <th>sqft_lot</th>\n",
       "      <th>floors</th>\n",
       "      <th>sqft_above</th>\n",
       "      <th>sqft_basement</th>\n",
       "    </tr>\n",
       "  </thead>\n",
       "  <tbody>\n",
       "    <tr>\n",
       "      <th>0</th>\n",
       "      <td>3.130000e+05</td>\n",
       "      <td>3.0</td>\n",
       "      <td>1340</td>\n",
       "      <td>7912</td>\n",
       "      <td>1.5</td>\n",
       "      <td>1340</td>\n",
       "      <td>0</td>\n",
       "    </tr>\n",
       "    <tr>\n",
       "      <th>1</th>\n",
       "      <td>2.384000e+06</td>\n",
       "      <td>5.0</td>\n",
       "      <td>3650</td>\n",
       "      <td>9050</td>\n",
       "      <td>2.0</td>\n",
       "      <td>3370</td>\n",
       "      <td>280</td>\n",
       "    </tr>\n",
       "    <tr>\n",
       "      <th>2</th>\n",
       "      <td>3.420000e+05</td>\n",
       "      <td>3.0</td>\n",
       "      <td>1930</td>\n",
       "      <td>11947</td>\n",
       "      <td>1.0</td>\n",
       "      <td>1930</td>\n",
       "      <td>0</td>\n",
       "    </tr>\n",
       "    <tr>\n",
       "      <th>3</th>\n",
       "      <td>4.200000e+05</td>\n",
       "      <td>3.0</td>\n",
       "      <td>2000</td>\n",
       "      <td>8030</td>\n",
       "      <td>1.0</td>\n",
       "      <td>1000</td>\n",
       "      <td>1000</td>\n",
       "    </tr>\n",
       "    <tr>\n",
       "      <th>4</th>\n",
       "      <td>5.500000e+05</td>\n",
       "      <td>4.0</td>\n",
       "      <td>1940</td>\n",
       "      <td>10500</td>\n",
       "      <td>1.0</td>\n",
       "      <td>1140</td>\n",
       "      <td>800</td>\n",
       "    </tr>\n",
       "    <tr>\n",
       "      <th>...</th>\n",
       "      <td>...</td>\n",
       "      <td>...</td>\n",
       "      <td>...</td>\n",
       "      <td>...</td>\n",
       "      <td>...</td>\n",
       "      <td>...</td>\n",
       "      <td>...</td>\n",
       "    </tr>\n",
       "    <tr>\n",
       "      <th>4595</th>\n",
       "      <td>3.081667e+05</td>\n",
       "      <td>3.0</td>\n",
       "      <td>1510</td>\n",
       "      <td>6360</td>\n",
       "      <td>1.0</td>\n",
       "      <td>1510</td>\n",
       "      <td>0</td>\n",
       "    </tr>\n",
       "    <tr>\n",
       "      <th>4596</th>\n",
       "      <td>5.343333e+05</td>\n",
       "      <td>3.0</td>\n",
       "      <td>1460</td>\n",
       "      <td>7573</td>\n",
       "      <td>2.0</td>\n",
       "      <td>1460</td>\n",
       "      <td>0</td>\n",
       "    </tr>\n",
       "    <tr>\n",
       "      <th>4597</th>\n",
       "      <td>4.169042e+05</td>\n",
       "      <td>3.0</td>\n",
       "      <td>3010</td>\n",
       "      <td>7014</td>\n",
       "      <td>2.0</td>\n",
       "      <td>3010</td>\n",
       "      <td>0</td>\n",
       "    </tr>\n",
       "    <tr>\n",
       "      <th>4598</th>\n",
       "      <td>2.034000e+05</td>\n",
       "      <td>4.0</td>\n",
       "      <td>2090</td>\n",
       "      <td>6630</td>\n",
       "      <td>1.0</td>\n",
       "      <td>1070</td>\n",
       "      <td>1020</td>\n",
       "    </tr>\n",
       "    <tr>\n",
       "      <th>4599</th>\n",
       "      <td>2.206000e+05</td>\n",
       "      <td>3.0</td>\n",
       "      <td>1490</td>\n",
       "      <td>8102</td>\n",
       "      <td>2.0</td>\n",
       "      <td>1490</td>\n",
       "      <td>0</td>\n",
       "    </tr>\n",
       "  </tbody>\n",
       "</table>\n",
       "<p>4600 rows × 7 columns</p>\n",
       "</div>"
      ],
      "text/plain": [
       "             price  bedrooms  sqft_living  sqft_lot  floors  sqft_above  \\\n",
       "0     3.130000e+05       3.0         1340      7912     1.5        1340   \n",
       "1     2.384000e+06       5.0         3650      9050     2.0        3370   \n",
       "2     3.420000e+05       3.0         1930     11947     1.0        1930   \n",
       "3     4.200000e+05       3.0         2000      8030     1.0        1000   \n",
       "4     5.500000e+05       4.0         1940     10500     1.0        1140   \n",
       "...            ...       ...          ...       ...     ...         ...   \n",
       "4595  3.081667e+05       3.0         1510      6360     1.0        1510   \n",
       "4596  5.343333e+05       3.0         1460      7573     2.0        1460   \n",
       "4597  4.169042e+05       3.0         3010      7014     2.0        3010   \n",
       "4598  2.034000e+05       4.0         2090      6630     1.0        1070   \n",
       "4599  2.206000e+05       3.0         1490      8102     2.0        1490   \n",
       "\n",
       "      sqft_basement  \n",
       "0                 0  \n",
       "1               280  \n",
       "2                 0  \n",
       "3              1000  \n",
       "4               800  \n",
       "...             ...  \n",
       "4595              0  \n",
       "4596              0  \n",
       "4597              0  \n",
       "4598           1020  \n",
       "4599              0  \n",
       "\n",
       "[4600 rows x 7 columns]"
      ]
     },
     "execution_count": 4,
     "metadata": {},
     "output_type": "execute_result"
    }
   ],
   "source": [
    "data"
   ]
  },
  {
   "cell_type": "code",
   "execution_count": 92,
   "id": "0e1f5ef0-34eb-4dd2-ba18-15745a43ac3d",
   "metadata": {},
   "outputs": [],
   "source": [
    "select = ['sqft_living','sqft_lot','floors','sqft_above','sqft_basement']"
   ]
  },
  {
   "cell_type": "code",
   "execution_count": 93,
   "id": "b61843f3-031b-479f-9541-5b998b3fbcf1",
   "metadata": {},
   "outputs": [],
   "source": [
    "fearture = data[select].values\n",
    "target = data['bedrooms'].values"
   ]
  },
  {
   "cell_type": "code",
   "execution_count": 94,
   "id": "0c714968-a9b9-4572-bc99-694111077dba",
   "metadata": {
    "tags": []
   },
   "outputs": [],
   "source": [
    "data_input = [[target[i],list(fearture[i])] for i in range(len(fearture))]\n",
    "random.shuffle(data_input)"
   ]
  },
  {
   "cell_type": "code",
   "execution_count": 95,
   "id": "bae18b38-7b29-4274-96f1-9d0010023983",
   "metadata": {},
   "outputs": [],
   "source": [
    "class knn:\n",
    "    def train(self,data):\n",
    "    \tself.data = data\n",
    "    \n",
    "    def distance(self,X,Y):\n",
    "        distance = 0\n",
    "        for i in range(len(X)):\n",
    "            distance += (X[i] - Y[i])**2\n",
    "        return distance**.5\n",
    "    \n",
    "    def predict(self, point, k):\n",
    "        data = [val[1] for val in self.data]\n",
    "        target = [val[0] for val in self.data]\n",
    "        matrix = [[target[i],self.distance(data[i],point)] for i in range(len(data))]\n",
    "        matrix.sort(key = lambda x: x[1])\n",
    "        matrix = matrix[:k]\n",
    "        matrix = [val[0] for val in matrix]\n",
    "        \n",
    "        output = []\n",
    "        set_matrix = set(matrix)\n",
    "        for val in set_matrix:\n",
    "            count = 0\n",
    "            for sm_val in matrix:\n",
    "                if val == sm_val:\n",
    "                    count += 1\n",
    "            output.append([val,count/k])\n",
    "        output.sort(key = lambda x: x[1], reverse = True)\n",
    "        return output"
   ]
  },
  {
   "cell_type": "code",
   "execution_count": 96,
   "id": "632f2146-bc56-43f2-98c2-4376d529aeec",
   "metadata": {},
   "outputs": [
    {
     "data": {
      "text/plain": [
       "(4200, 400)"
      ]
     },
     "execution_count": 96,
     "metadata": {},
     "output_type": "execute_result"
    }
   ],
   "source": [
    "train_data = data_input[:4200]\n",
    "test_data = data_input[4200:]\n",
    "len(train_data),len(test_data)"
   ]
  },
  {
   "cell_type": "code",
   "execution_count": 97,
   "id": "689c0047-6481-4d8e-ac45-cbd409535704",
   "metadata": {},
   "outputs": [],
   "source": [
    "my_knn = knn()\n",
    "my_knn.train(train_data)"
   ]
  },
  {
   "cell_type": "code",
   "execution_count": 105,
   "id": "c6c86687-f1cb-46c9-a977-45664bb7cf0d",
   "metadata": {
    "tags": []
   },
   "outputs": [
    {
     "name": "stdout",
     "output_type": "stream",
     "text": [
      "acc:  61.75000000000001 %\n"
     ]
    }
   ],
   "source": [
    "k = 20\n",
    "count = 0\n",
    "for sm_data in test_data:\n",
    "    if sm_data[0] == my_knn.predict(sm_data[1],k)[0][0]:\n",
    "        count += 1\n",
    "print('acc: ', count/len(test_data) * 100, '%')"
   ]
  },
  {
   "cell_type": "code",
   "execution_count": null,
   "id": "4fc94222-84f8-4077-9304-e37d04b95086",
   "metadata": {},
   "outputs": [],
   "source": []
  },
  {
   "cell_type": "code",
   "execution_count": null,
   "id": "c810c8ac",
   "metadata": {},
   "outputs": [],
   "source": []
  }
 ],
 "metadata": {
  "kernelspec": {
   "display_name": "Python 3 (ipykernel)",
   "language": "python",
   "name": "python3"
  },
  "language_info": {
   "codemirror_mode": {
    "name": "ipython",
    "version": 3
   },
   "file_extension": ".py",
   "mimetype": "text/x-python",
   "name": "python",
   "nbconvert_exporter": "python",
   "pygments_lexer": "ipython3",
   "version": "3.10.9"
  }
 },
 "nbformat": 4,
 "nbformat_minor": 5
}
