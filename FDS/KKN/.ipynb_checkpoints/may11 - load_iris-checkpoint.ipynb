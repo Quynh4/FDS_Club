{
 "cells": [
  {
   "cell_type": "code",
   "execution_count": 3,
   "id": "e9aeb61a",
   "metadata": {},
   "outputs": [],
   "source": [
    "import numpy\n",
    "from sklearn.datasets import load_iris\n",
    "import pandas\n",
    "import matplotlib.pyplot as plt"
   ]
  },
  {
   "cell_type": "code",
   "execution_count": 4,
   "id": "e8a5bc71",
   "metadata": {},
   "outputs": [],
   "source": [
    "iris_data = load_iris()\n",
    "data = iris_data.data\n",
    "target = iris_data.target\n",
    "data = numpy.array([val[2:4] for val in data])"
   ]
  },
  {
   "cell_type": "code",
   "execution_count": 5,
   "id": "096b35e7",
   "metadata": {
    "scrolled": true
   },
   "outputs": [
    {
     "data": {
      "text/plain": [
       "array([0, 0, 0, 0, 0, 0, 0, 0, 0, 0, 0, 0, 0, 0, 0, 0, 0, 0, 0, 0, 0, 0,\n",
       "       0, 0, 0, 0, 0, 0, 0, 0, 0, 0, 0, 0, 0, 0, 0, 0, 0, 0, 0, 0, 0, 0,\n",
       "       0, 0, 0, 0, 0, 0, 1, 1, 1, 1, 1, 1, 1, 1, 1, 1, 1, 1, 1, 1, 1, 1,\n",
       "       1, 1, 1, 1, 1, 1, 1, 1, 1, 1, 1, 1, 1, 1, 1, 1, 1, 1, 1, 1, 1, 1,\n",
       "       1, 1, 1, 1, 1, 1, 1, 1, 1, 1, 1, 1, 2, 2, 2, 2, 2, 2, 2, 2, 2, 2,\n",
       "       2, 2, 2, 2, 2, 2, 2, 2, 2, 2, 2, 2, 2, 2, 2, 2, 2, 2, 2, 2, 2, 2,\n",
       "       2, 2, 2, 2, 2, 2, 2, 2, 2, 2, 2, 2, 2, 2, 2, 2, 2, 2])"
      ]
     },
     "execution_count": 5,
     "metadata": {},
     "output_type": "execute_result"
    }
   ],
   "source": [
    "target"
   ]
  },
  {
   "cell_type": "code",
   "execution_count": 6,
   "id": "a3fe3fd3",
   "metadata": {},
   "outputs": [
    {
     "data": {
      "text/plain": [
       "{0, 1, 2}"
      ]
     },
     "execution_count": 6,
     "metadata": {},
     "output_type": "execute_result"
    }
   ],
   "source": [
    "set_tar = set(target)\n",
    "set_tar\n"
   ]
  },
  {
   "cell_type": "code",
   "execution_count": 7,
   "id": "a73aaa57",
   "metadata": {},
   "outputs": [
    {
     "data": {
      "text/plain": [
       "[array([6. , 2.5]),\n",
       " array([5.1, 1.9]),\n",
       " array([5.9, 2.1]),\n",
       " array([5.6, 1.8]),\n",
       " array([5.8, 2.2]),\n",
       " array([6.6, 2.1]),\n",
       " array([4.5, 1.7]),\n",
       " array([6.3, 1.8]),\n",
       " array([5.8, 1.8]),\n",
       " array([6.1, 2.5]),\n",
       " array([5.1, 2. ]),\n",
       " array([5.3, 1.9]),\n",
       " array([5.5, 2.1]),\n",
       " array([5., 2.]),\n",
       " array([5.1, 2.4]),\n",
       " array([5.3, 2.3]),\n",
       " array([5.5, 1.8]),\n",
       " array([6.7, 2.2]),\n",
       " array([6.9, 2.3]),\n",
       " array([5. , 1.5]),\n",
       " array([5.7, 2.3]),\n",
       " array([4.9, 2. ]),\n",
       " array([6.7, 2. ]),\n",
       " array([4.9, 1.8]),\n",
       " array([5.7, 2.1]),\n",
       " array([6. , 1.8]),\n",
       " array([4.8, 1.8]),\n",
       " array([4.9, 1.8]),\n",
       " array([5.6, 2.1]),\n",
       " array([5.8, 1.6]),\n",
       " array([6.1, 1.9]),\n",
       " array([6.4, 2. ]),\n",
       " array([5.6, 2.2]),\n",
       " array([5.1, 1.5]),\n",
       " array([5.6, 1.4]),\n",
       " array([6.1, 2.3]),\n",
       " array([5.6, 2.4]),\n",
       " array([5.5, 1.8]),\n",
       " array([4.8, 1.8]),\n",
       " array([5.4, 2.1]),\n",
       " array([5.6, 2.4]),\n",
       " array([5.1, 2.3]),\n",
       " array([5.1, 1.9]),\n",
       " array([5.9, 2.3]),\n",
       " array([5.7, 2.5]),\n",
       " array([5.2, 2.3]),\n",
       " array([5. , 1.9]),\n",
       " array([5.2, 2. ]),\n",
       " array([5.4, 2.3]),\n",
       " array([5.1, 1.8])]"
      ]
     },
     "execution_count": 7,
     "metadata": {},
     "output_type": "execute_result"
    }
   ],
   "source": [
    "sep = []\n",
    "for val in set_tar:\n",
    "    flw = []\n",
    "    for i in range (len(target)):\n",
    "        if target[i] == val:\n",
    "            flw.append(data[i])\n",
    "    sep.append(flw)\n",
    "    \n",
    "    \n",
    "flw"
   ]
  },
  {
   "cell_type": "code",
   "execution_count": 8,
   "id": "74de530c",
   "metadata": {},
   "outputs": [
    {
     "data": {
      "image/png": "[encoded data removed]",
      "text/plain": [
       "<Figure size 640x480 with 1 Axes>"
      ]
     },
     "metadata": {},
     "output_type": "display_data"
    }
   ],
   "source": [
    "for arr in sep:\n",
    "    plt.scatter([val[0] for val in arr], [val[1]   for val in arr])\n",
    "plt.show()"
   ]
  },
  {
   "cell_type": "code",
   "execution_count": 9,
   "id": "7780d1e4",
   "metadata": {},
   "outputs": [],
   "source": [
    "class knn:\n",
    "    #data: numpy.array\n",
    "    \n",
    "    def train(self,data):\n",
    "        self.data = data\n",
    "        \n",
    "    def distance(self, pointA, pointB):\n",
    "        output =0\n",
    "        for i in range(len(pointA)):\n",
    "            output += (pointA[i] - pointB[i])**2\n",
    "        return output ** .5\n",
    "    \n",
    "    def predict(self, point, k):\n",
    "        data = [val[1] for val in self.data]\n",
    "        target = [val[0] for val in self.data]\n",
    "        matrix = [[target[i], self.distance(data[i], point)] for i in range(len(data))]\n",
    "        \n",
    "        matrix.sort(key = lambda x : x[1])\n",
    "        matrix = matrx[:k]\n",
    "        matrix = [val[0] for val in matrix]\n",
    "        \n",
    "        output = []\n",
    "        set_matrix = set(matrix)\n",
    "        for val in set_matrix:\n",
    "            count =0\n",
    "            for sm_val in matrix:\n",
    "                if val == sm_val:\n",
    "                    count += 1\n",
    "            output.append({val:count/k})\n",
    "        output.sort(key = lambda x: x[1], reverse=True)\n",
    "        return output\n",
    "    \n"
   ]
  },
  {
   "cell_type": "code",
   "execution_count": 10,
   "id": "959c7492",
   "metadata": {},
   "outputs": [],
   "source": [
    "data = [[target[i], list(data[i])] for i in range(len(data))]"
   ]
  },
  {
   "cell_type": "code",
   "execution_count": 11,
   "id": "a533546f",
   "metadata": {},
   "outputs": [
    {
     "data": {
      "text/plain": [
       "(120, 30)"
      ]
     },
     "execution_count": 11,
     "metadata": {},
     "output_type": "execute_result"
    }
   ],
   "source": [
    "train_data = data[:120]\n",
    "test_data = data[120:]\n",
    "len(train_data),len(test_data)"
   ]
  },
  {
   "cell_type": "code",
   "execution_count": 12,
   "id": "ec22b502",
   "metadata": {},
   "outputs": [],
   "source": [
    "my_knn = knn()\n",
    "my_knn.train(train_data)"
   ]
  },
  {
   "cell_type": "code",
   "execution_count": 13,
   "id": "62552378",
   "metadata": {},
   "outputs": [
    {
     "ename": "SyntaxError",
     "evalue": "invalid syntax (1515474568.py, line 4)",
     "output_type": "error",
     "traceback": [
      "\u001b[1;36m  Cell \u001b[1;32mIn[13], line 4\u001b[1;36m\u001b[0m\n\u001b[1;33m    if sm_data[]\u001b[0m\n\u001b[1;37m               ^\u001b[0m\n\u001b[1;31mSyntaxError\u001b[0m\u001b[1;31m:\u001b[0m invalid syntax\n"
     ]
    }
   ],
   "source": [
    "k=12\n",
    "count =0\n",
    "for sm_data in test_data:\n",
    "    if sm_data[]"
   ]
  },
  {
   "cell_type": "code",
   "execution_count": null,
   "id": "a4e4fa3e",
   "metadata": {},
   "outputs": [],
   "source": []
  },
  {
   "cell_type": "code",
   "execution_count": null,
   "id": "687a88c2",
   "metadata": {},
   "outputs": [],
   "source": []
  },
  {
   "cell_type": "code",
   "execution_count": null,
   "id": "31fc79b6",
   "metadata": {},
   "outputs": [],
   "source": []
  }
 ],
 "metadata": {
  "kernelspec": {
   "display_name": "Python 3 (ipykernel)",
   "language": "python",
   "name": "python3"
  },
  "language_info": {
   "codemirror_mode": {
    "name": "ipython",
    "version": 3
   },
   "file_extension": ".py",
   "mimetype": "text/x-python",
   "name": "python",
   "nbconvert_exporter": "python",
   "pygments_lexer": "ipython3",
   "version": "3.10.9"
  }
 },
 "nbformat": 4,
 "nbformat_minor": 5
}
