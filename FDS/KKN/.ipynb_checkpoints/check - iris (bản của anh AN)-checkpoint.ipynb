{
 "cells": [
  {
   "cell_type": "code",
   "execution_count": 1,
   "id": "fbf76c74-1ad0-4f51-9a11-38fc7b93cec9",
   "metadata": {},
   "outputs": [],
   "source": []
  },
  {
   "cell_type": "code",
   "execution_count": 33,
   "id": "5240ce5d-cf4e-4c43-97d1-3683ad3cbc8a",
   "metadata": {},
   "outputs": [],
   "source": []
  },
  {
   "cell_type": "code",
   "execution_count": 2,
   "id": "b02a7b80-8600-4a5d-96b2-f44818dcb06c",
   "metadata": {},
   "outputs": [
    {
     "data": {
      "text/plain": [
       "(100, 50)"
      ]
     },
     "execution_count": 2,
     "metadata": {},
     "output_type": "execute_result"
    }
   ],
   "source": [
    "\n",
    "#import thư viện\n",
    "import numpy #làm việc với mảng\n",
    "from sklearn.datasets import load_iris #các dữ liệu có sẵn\n",
    "import pandas\n",
    "import matplotlib.pyplot as plt\n",
    "import random\n",
    "\n",
    "iris_data = load_iris()\n",
    "data = iris_data.data\n",
    "target = iris_data.target\n",
    "# data = numpy.array([val[2:4] for val in data])\n",
    "data = [[target[i],list(data[i])] for i in range(len(data))]\n",
    "random.shuffle(data)\n",
    "\n",
    "class knn:\n",
    "    #[<tar>,[<values>]]\n",
    "    def train(self, data):\n",
    "        self.data = data\n",
    "        \n",
    "    def distance(self, pointA, pointB):\n",
    "        output = 0\n",
    "        for i in range(len(pointA)):\n",
    "            output += (pointA[i] - pointB[i])**2\n",
    "        return output ** .5\n",
    "    \n",
    "    def predict(self, point, k):\n",
    "        data = [val[1] for val in self.data]\n",
    "        target = [val[0] for val in self.data]\n",
    "        matrix = [[target[i],self.distance(data[i],point)] for i in range(len(data))]\n",
    "        matrix.sort(key = lambda x: x[1])\n",
    "        matrix = matrix[:k]\n",
    "        matrix = [val[0] for val in matrix]\n",
    "        \n",
    "        output = []\n",
    "        set_matrix = set(matrix)\n",
    "        for val in set_matrix:\n",
    "            count = 0\n",
    "            for sm_val in matrix:\n",
    "                if val == sm_val:\n",
    "                    count += 1\n",
    "            output.append([val,count/k])\n",
    "        output.sort(key = lambda x: x[1], reverse=True)\n",
    "        return output\n",
    "    \n",
    "train_data = data[:100]\n",
    "test_data = data[100:]\n",
    "len(train_data),len(test_data)"
   ]
  },
  {
   "cell_type": "code",
   "execution_count": 40,
   "id": "eb4cadcf-7574-4fdf-817e-b53d90cd52b4",
   "metadata": {},
   "outputs": [
    {
     "data": {
      "text/plain": [
       "(100, 50)"
      ]
     },
     "execution_count": 40,
     "metadata": {},
     "output_type": "execute_result"
    }
   ],
   "source": []
  },
  {
   "cell_type": "code",
   "execution_count": 3,
   "id": "4d789043-f908-48fa-b46a-8fa7db755851",
   "metadata": {},
   "outputs": [],
   "source": [
    "my_knn = knn()\n",
    "my_knn.train(train_data)"
   ]
  },
  {
   "cell_type": "code",
   "execution_count": 4,
   "id": "facc6e42-d0be-4555-9599-7606aa619947",
   "metadata": {},
   "outputs": [
    {
     "name": "stdout",
     "output_type": "stream",
     "text": [
      "acc: 94.0 %\n"
     ]
    }
   ],
   "source": [
    "k = 12\n",
    "count = 0\n",
    "for sm_data in test_data:\n",
    "    if sm_data[0] == my_knn.predict(sm_data[1],k)[0][0]:\n",
    "        count += 1\n",
    "print('acc:',count/len(test_data) * 100,'%')"
   ]
  },
  {
   "cell_type": "code",
   "execution_count": null,
   "id": "0a2dc699-85dd-4f6e-8083-bae97235aee1",
   "metadata": {},
   "outputs": [],
   "source": []
  }
 ],
 "metadata": {
  "kernelspec": {
   "display_name": "Python 3 (ipykernel)",
   "language": "python",
   "name": "python3"
  },
  "language_info": {
   "codemirror_mode": {
    "name": "ipython",
    "version": 3
   },
   "file_extension": ".py",
   "mimetype": "text/x-python",
   "name": "python",
   "nbconvert_exporter": "python",
   "pygments_lexer": "ipython3",
   "version": "3.10.9"
  }
 },
 "nbformat": 4,
 "nbformat_minor": 5
}
