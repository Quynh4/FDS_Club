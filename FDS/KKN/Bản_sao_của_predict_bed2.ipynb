{
 "cells": [
  {
   "cell_type": "code",
   "execution_count": 1,
   "metadata": {
    "colab": {
     "background_save": true,
     "base_uri": "https://localhost:8080/"
    },
    "id": "2DOJM-7eZNaV",
    "outputId": "d7772bd0-d13a-48a1-ef7c-df02f9cac272"
   },
   "outputs": [
    {
     "name": "stdout",
     "output_type": "stream",
     "text": [
      "Collecting sklearn\n",
      "  Downloading sklearn-0.0.post5.tar.gz (3.7 kB)\n",
      "  Preparing metadata (setup.py): started\n",
      "  Preparing metadata (setup.py): finished with status 'done'\n",
      "Building wheels for collected packages: sklearn\n",
      "  Building wheel for sklearn (setup.py): started\n",
      "  Building wheel for sklearn (setup.py): finished with status 'done'\n",
      "  Created wheel for sklearn: filename=sklearn-0.0.post5-py3-none-any.whl size=2970 sha256=e92b283dcb5b3cef268136f0ae7feb95b65d4a0cbaeef1ded76713c021d35676\n",
      "  Stored in directory: c:\\users\\nitro 5\\appdata\\local\\pip\\cache\\wheels\\5c\\47\\e1\\386fa7740f1947ad87d16c68041c16ad8c23ca2bfd139a3fe5\n",
      "Successfully built sklearn\n",
      "Installing collected packages: sklearn\n",
      "Successfully installed sklearn-0.0.post5\n",
      "Requirement already satisfied: numpy in d:\\new folder\\lib\\site-packages (1.23.5)\n",
      "Requirement already satisfied: matplotlib in d:\\new folder\\lib\\site-packages (3.7.0)\n",
      "Requirement already satisfied: fonttools>=4.22.0 in d:\\new folder\\lib\\site-packages (from matplotlib) (4.25.0)\n",
      "Requirement already satisfied: pillow>=6.2.0 in d:\\new folder\\lib\\site-packages (from matplotlib) (9.4.0)\n",
      "Requirement already satisfied: contourpy>=1.0.1 in d:\\new folder\\lib\\site-packages (from matplotlib) (1.0.5)\n",
      "Requirement already satisfied: kiwisolver>=1.0.1 in d:\\new folder\\lib\\site-packages (from matplotlib) (1.4.4)\n",
      "Requirement already satisfied: python-dateutil>=2.7 in d:\\new folder\\lib\\site-packages (from matplotlib) (2.8.2)\n",
      "Requirement already satisfied: cycler>=0.10 in d:\\new folder\\lib\\site-packages (from matplotlib) (0.11.0)\n",
      "Requirement already satisfied: pyparsing>=2.3.1 in d:\\new folder\\lib\\site-packages (from matplotlib) (3.0.9)\n",
      "Requirement already satisfied: packaging>=20.0 in d:\\new folder\\lib\\site-packages (from matplotlib) (22.0)\n",
      "Requirement already satisfied: numpy>=1.20 in d:\\new folder\\lib\\site-packages (from matplotlib) (1.23.5)\n",
      "Requirement already satisfied: six>=1.5 in d:\\new folder\\lib\\site-packages (from python-dateutil>=2.7->matplotlib) (1.16.0)\n",
      "Requirement already satisfied: pandas in d:\\new folder\\lib\\site-packages (1.5.3)\n",
      "Requirement already satisfied: pytz>=2020.1 in d:\\new folder\\lib\\site-packages (from pandas) (2022.7)\n",
      "Requirement already satisfied: numpy>=1.21.0 in d:\\new folder\\lib\\site-packages (from pandas) (1.23.5)\n",
      "Requirement already satisfied: python-dateutil>=2.8.1 in d:\\new folder\\lib\\site-packages (from pandas) (2.8.2)\n",
      "Requirement already satisfied: six>=1.5 in d:\\new folder\\lib\\site-packages (from python-dateutil>=2.8.1->pandas) (1.16.0)\n"
     ]
    }
   ],
   "source": [
    "!pip install sklearn\n",
    "!pip install numpy\n",
    "!pip install matplotlib \n",
    "!pip install pandas"
   ]
  },
  {
   "cell_type": "code",
   "execution_count": 2,
   "metadata": {
    "colab": {
     "background_save": true
    },
    "id": "ZHOZBMDuZSin"
   },
   "outputs": [],
   "source": [
    "import numpy as np\n",
    "import pandas as pd\n",
    "import matplotlib.pyplot as plt\n",
    "import random\n",
    "from sklearn import neighbors, datasets\n",
    "from sklearn.model_selection import train_test_split\n",
    "from sklearn.metrics import accuracy_score"
   ]
  },
  {
   "cell_type": "code",
   "execution_count": 4,
   "metadata": {
    "id": "7A1vRZKOZXw2"
   },
   "outputs": [],
   "source": [
    "#from google.colab import drive\n",
    "#drive.mount('/content/drive')\n",
    "data = pd.read_csv(\"house.csv\")"
   ]
  },
  {
   "cell_type": "code",
   "execution_count": 5,
   "metadata": {
    "id": "AOUBB7E1Zav_"
   },
   "outputs": [],
   "source": [
    "#data = pd.read_csv('/content/drive/MyDrive/data_set/data.csv')\n",
    "data = data.sort_values('price')"
   ]
  },
  {
   "cell_type": "code",
   "execution_count": 10,
   "metadata": {
    "id": "9mfhaHArhxs5"
   },
   "outputs": [
    {
     "data": {
      "text/plain": [
       "2032"
      ]
     },
     "execution_count": 10,
     "metadata": {},
     "output_type": "execute_result"
    }
   ],
   "source": [
    "\n",
    "counts = data['bedrooms'].value_counts()\n",
    "\n",
    "# Tìm giá trị xuất hiện nhiều nhất\n",
    "max_count = counts.max()\n",
    "max_count"
   ]
  },
  {
   "cell_type": "code",
   "execution_count": 11,
   "metadata": {},
   "outputs": [],
   "source": [
    "# Tạo một DataFrame mới chứa các giá trị ít xuất hiện hơn\n",
    "new_rows = pd.DataFrame(columns=data.columns)"
   ]
  },
  {
   "cell_type": "code",
   "execution_count": null,
   "metadata": {},
   "outputs": [],
   "source": [
    "\n",
    "for i, count in counts.items():\n",
    "    if count < max_count:\n",
    "        diff = max_count - count\n",
    "        rows = data[data['bedrooms'] == i]\n",
    "        random_indices = np.random.choice(rows.index, diff)\n",
    "        new_rows = pd.concat([new_rows, rows.loc[random_indices]])\n",
    "\n",
    "# Thêm các hàng mới vào DataFrame\n",
    "data = pd.concat([data, new_rows])\n",
    "\n",
    "# Kiểm tra kết quả\n",
    "print(data['bedrooms'].value_counts())"
   ]
  },
  {
   "cell_type": "markdown",
   "metadata": {
    "id": "9m45tTEooAEM"
   },
   "source": []
  },
  {
   "cell_type": "code",
   "execution_count": null,
   "metadata": {
    "id": "IYg_a7gNZiH3"
   },
   "outputs": [],
   "source": [
    "new_data = data.sample(frac = 1)\n",
    "chosen_cate = [\n",
    " \n",
    " 'mean_sqft',\n",
    " 'bathrooms',\n",
    " 'sqft_living',\n",
    " 'sqft_basement',\n",
    " 'price',\n",
    " 'mean_condition'\n",
    " \n",
    " \n",
    " ]\n",
    "data2 = new_data[chosen_cate]\n",
    "\n",
    "label2 = new_data['bedrooms']"
   ]
  },
  {
   "cell_type": "code",
   "execution_count": null,
   "metadata": {
    "id": "WLwICA9hZxow"
   },
   "outputs": [],
   "source": [
    "X_train2, X_test2, y_train2, y_test2 = train_test_split(data2\n",
    "     , label2, test_size=800)"
   ]
  },
  {
   "cell_type": "code",
   "execution_count": null,
   "metadata": {
    "id": "AbUKWBlhjnnM"
   },
   "outputs": [],
   "source": [
    "from sklearn.preprocessing import StandardScaler\n",
    "scaler = StandardScaler()\n",
    "X_train_scaled = scaler.fit_transform(X_train2)\n",
    "X_test_scaled = scaler.fit_transform(X_test2)"
   ]
  },
  {
   "cell_type": "code",
   "execution_count": null,
   "metadata": {
    "colab": {
     "base_uri": "https://localhost:8080/"
    },
    "id": "u5zzy6YhZz9u",
    "outputId": "4b35e674-cbff-43da-af60-f7132e5dcbe9"
   },
   "outputs": [],
   "source": [
    "clf = neighbors.KNeighborsClassifier(n_neighbors = 30, p = 2)\n",
    "clf.fit(X_train_scaled, y_train2)\n",
    "y_pred = clf.predict(X_test_scaled)\n",
    "print (\"Accuracy of 35NN:\", 100*accuracy_score(y_test2, y_pred))"
   ]
  },
  {
   "cell_type": "code",
   "execution_count": null,
   "metadata": {
    "id": "ZbG3B7QRmtaE"
   },
   "outputs": [],
   "source": []
  },
  {
   "cell_type": "code",
   "execution_count": null,
   "metadata": {},
   "outputs": [],
   "source": []
  }
 ],
 "metadata": {
  "colab": {
   "provenance": []
  },
  "kernelspec": {
   "display_name": "Python 3 (ipykernel)",
   "language": "python",
   "name": "python3"
  },
  "language_info": {
   "codemirror_mode": {
    "name": "ipython",
    "version": 3
   },
   "file_extension": ".py",
   "mimetype": "text/x-python",
   "name": "python",
   "nbconvert_exporter": "python",
   "pygments_lexer": "ipython3",
   "version": "3.10.9"
  }
 },
 "nbformat": 4,
 "nbformat_minor": 1
}
