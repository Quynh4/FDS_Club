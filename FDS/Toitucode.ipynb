{
 "cells": [
  {
   "cell_type": "markdown",
   "id": "7356634c-0986-4c96-8a39-919d1ff93524",
   "metadata": {
    "tags": []
   },
   "source": [
    "Hai hàm iloc và loc đều dùng để truy cập và lấy ra các phần tử hoặc các dòng và cột trong một DataFrame của thư viện pandas trong Python.\n",
    "\n",
    "Hàm iloc sử dụng chỉ mục (index) của các phần tử hoặc các dòng/cột để truy cập chúng. \n",
    "Còn hàm loc sử dụng tên của các chỉ mục cho việc truy cập.\n",
    "\n",
    "Ví dụ, để lấy giá trị của phần tử ở hàng thứ n, cột thứ m trong DataFrame, ta có thể sử dụng cú pháp iloc[n, m].\n",
    "Tương tự, nếu muốn lấy ra các phần tử của DataFrame với một điều kiện cụ thể, ta có thể sử dụng cú pháp loc[condition], trong đó condition là một biểu thức điều kiện (VD: `df.loc[df['col1'] == 'value1']`)."
   ]
  },
  {
   "cell_type": "markdown",
   "id": "78d5acb3-0f41-459d-989c-d4f693081509",
   "metadata": {
    "tags": []
   },
   "source": [
    "Trong pandas DataFrame, `s.loc['Molly']` và `s['Molly']` được sử dụng để truy cập phần tử trong cột có tên 'Molly'.\n",
    "\n",
    "Tuy nhiên, hai cách sử dụng này đôi lúc có sự khác biệt nhỏ.\n",
    "\n",
    "Sử dụng cú pháp `s.loc['Molly']`: tuy chi phí tính toán cao hơn, sử dụng hàm loc sẽ cung cấp một số truy cập tuyệt vời cho dữ liệu khác nhau. Điều này bởi vì loc permet truy cập dữ liệu dữa trên cả nhãn hàng và cột\n",
    "Sử dụng cú pháp `s['Molly']`: cách này sử dụng nhãn cột trực tiếp để truy xuất dữ liệu, do đó nó sẽ thực hiện đôi chút nhanh hơn loc.\n",
    "Vì vậy, trong các trường hợp sử dụng đơn giản, sử dụng `s['Molly']` là cách tiện lợi hơn. Tuy nhiên, nếu bạn cần truy cập đến dữ liệu dựa trên cả hàng và cột, `s.loc['Molly']` là cách tốt hơn."
   ]
  },
  {
   "cell_type": "markdown",
   "id": "e12c6ca9-aa3b-4b29-9fa3-8825c4f41046",
   "metadata": {},
   "source": [
    "Series khác với dictionary. \n",
    "Trong dictionary bắt buộc phải có key.\n",
    "Series thì nó sẽ tự động tạo key từ các chỉ mục.\n",
    "nếu pd.Series(dict) thì cái key nó sẽ chuyển từ index sang tên của"
   ]
  },
  {
   "cell_type": "markdown",
   "id": "ebc09449-f589-475d-80ee-9ca58157312e",
   "metadata": {},
   "source": [
    "NumPy là một thư viện tính toán khoa học cho phép làm việc với mảng và ma trận nhiều chiều. Nó cung cấp các chức năng tính toán cơ bản như lấy tổng, tích, trung bình, lấy max/min, truy cập phần tử của ma trận và các phép toán đại số tuyến tính. NumPy là một thư viện được sử dụng nhiều trong khoa học dữ liệu, tạo ra các mảng Numpy có hiệu xuất tính toán cao và phù hợp cho các phép toán đại số tuyến tính.\n",
    "\n",
    "Pandas là thư viện xử lý dữ liệu tập trung chủ yếu vào dữ liệu bảng hoặc các tập dữ liệu có quan hệ. Nó cung cấp các chức năng để đọc dữ liệu từ nhiều nguồn (như CSV, SQL), truy cập, tạo và quản lý các danh sách, tập hợp và các đối tượng DataFrame. Pandas được sử dụng rộng rãi trong các ứng dụng phân tích dữ liệu, machine learning và tạo các tập dữ liệu có cấu trúc cao."
   ]
  },
  {
   "cell_type": "markdown",
   "id": "014dba91-ba96-462c-8027-722c1e18df91",
   "metadata": {},
   "source": [
    "np.linspace và np.random.randint() khác nhau vì một cái là theo thứ tự, 1 cái là ngẫu nhiên"
   ]
  }
 ],
 "metadata": {
  "kernelspec": {
   "display_name": "Python 3 (ipykernel)",
   "language": "python",
   "name": "python3"
  },
  "language_info": {
   "codemirror_mode": {
    "name": "ipython",
    "version": 3
   },
   "file_extension": ".py",
   "mimetype": "text/x-python",
   "name": "python",
   "nbconvert_exporter": "python",
   "pygments_lexer": "ipython3",
   "version": "3.10.9"
  }
 },
 "nbformat": 4,
 "nbformat_minor": 5
}
