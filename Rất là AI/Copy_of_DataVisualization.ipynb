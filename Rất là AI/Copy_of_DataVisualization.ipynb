{
 "cells": [
  {
   "cell_type": "markdown",
   "metadata": {
    "id": "DTUZ5W9eR9X2"
   },
   "source": [
    "# Excersise:\n",
    "- Chọn 1 dataset bất kì trong list các dataset ở phía dưới.\n",
    "- Tiến hành trực quan hóa dữ liệu bằng 5 biểu đồ plot chính.\n",
    "- Sáng tạo và plot bằng nhiều cách khác nhau là một điểm cộng."
   ]
  },
  {
   "cell_type": "markdown",
   "metadata": {
    "id": "_dOkPcKG1rNc"
   },
   "source": [
    "# Import The Modules"
   ]
  },
  {
   "cell_type": "code",
   "execution_count": null,
   "metadata": {
    "id": "Q_WmD_dmzNgU"
   },
   "outputs": [],
   "source": [
    "# importing the modules\n",
    "import matplotlib\n",
    "import seaborn\n",
    "\n",
    "# printing the versions\n",
    "print(\"Matplotlib :\", matplotlib.__version__)\n",
    "print(\"Seaborn :\", seaborn.__version__)"
   ]
  },
  {
   "cell_type": "code",
   "execution_count": null,
   "metadata": {
    "id": "TZRZs4V3R7Af"
   },
   "outputs": [],
   "source": [
    "#List dataset\n",
    "list_dataset = ['anagrams','anscombe','attention','brain_networks','car_crashes','diamonds','dots','dowjones','exercise','flights','fmri','geyser','glue','healthexp','iris','mpg','penguins','planets','seaice','taxis','tips','titanic']"
   ]
  },
  {
   "cell_type": "code",
   "execution_count": null,
   "metadata": {
    "id": "cGriCSHizUWc"
   },
   "outputs": [],
   "source": [
    "# importing required modules\n",
    "import pandas as pd\n",
    "import numpy as np\n",
    "\n",
    "# loading the dataset\n",
    "dataset = seaborn.load_dataset('#code in here')\n",
    "# heading of the dataset\n",
    "dataset.head()"
   ]
  },
  {
   "cell_type": "markdown",
   "metadata": {
    "id": "KnVZvOtO3Jus"
   },
   "source": [
    "# Heat Map"
   ]
  },
  {
   "cell_type": "code",
   "execution_count": null,
   "metadata": {
    "id": "GqIMRjAWD-U7"
   },
   "outputs": [],
   "source": []
  },
  {
   "cell_type": "markdown",
   "metadata": {
    "id": "aKZScYD41xhZ"
   },
   "source": [
    "# Scatter Plots"
   ]
  },
  {
   "cell_type": "code",
   "execution_count": null,
   "metadata": {
    "id": "lryoco-5D_kO"
   },
   "outputs": [],
   "source": []
  },
  {
   "cell_type": "markdown",
   "metadata": {
    "id": "yK4s8aqV11GG"
   },
   "source": [
    "# Line Graphs"
   ]
  },
  {
   "cell_type": "code",
   "execution_count": null,
   "metadata": {
    "id": "0lvMDkW2EAMy"
   },
   "outputs": [],
   "source": []
  },
  {
   "cell_type": "markdown",
   "metadata": {
    "id": "AXl6P08T13vy"
   },
   "source": [
    "# Histogram Plots"
   ]
  },
  {
   "cell_type": "code",
   "execution_count": null,
   "metadata": {
    "id": "VX8AZ0dAEAyb"
   },
   "outputs": [],
   "source": []
  },
  {
   "cell_type": "markdown",
   "metadata": {
    "id": "gfbK7eFW18aT"
   },
   "source": [
    "# Box Plots"
   ]
  },
  {
   "cell_type": "code",
   "execution_count": null,
   "metadata": {
    "id": "g9ChRfDpEBPo"
   },
   "outputs": [],
   "source": []
  },
  {
   "cell_type": "markdown",
   "metadata": {
    "id": "WZAOsGxX1_fu"
   },
   "source": [
    "# Violin Plots"
   ]
  },
  {
   "cell_type": "code",
   "execution_count": null,
   "metadata": {
    "id": "biIHeoIkEBwT"
   },
   "outputs": [],
   "source": []
  },
  {
   "cell_type": "markdown",
   "metadata": {
    "id": "UmCM8VnN2DPi"
   },
   "source": [
    "# Bar Plots"
   ]
  },
  {
   "cell_type": "code",
   "execution_count": null,
   "metadata": {
    "id": "izzMw3XuECk9"
   },
   "outputs": [],
   "source": []
  }
 ],
 "metadata": {
  "colab": {
   "provenance": []
  },
  "kernelspec": {
   "display_name": "Python 3 (ipykernel)",
   "language": "python",
   "name": "python3"
  },
  "language_info": {
   "codemirror_mode": {
    "name": "ipython",
    "version": 3
   },
   "file_extension": ".py",
   "mimetype": "text/x-python",
   "name": "python",
   "nbconvert_exporter": "python",
   "pygments_lexer": "ipython3",
   "version": "3.10.9"
  }
 },
 "nbformat": 4,
 "nbformat_minor": 1
}
