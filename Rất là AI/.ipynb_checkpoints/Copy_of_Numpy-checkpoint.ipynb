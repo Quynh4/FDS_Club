{
 "cells": [
  {
   "cell_type": "code",
   "execution_count": null,
   "metadata": {
    "id": "RlMg3jkvZzW7"
   },
   "outputs": [],
   "source": [
    "import numpy as np"
   ]
  },
  {
   "cell_type": "markdown",
   "metadata": {
    "id": "4M75f7rSYcjV"
   },
   "source": [
    "Generate a sequence of numbers in the form of a numpy array from 0 to 100 with gaps of 2 numbers, for example: 0, 2, 4 ...."
   ]
  },
  {
   "cell_type": "code",
   "execution_count": null,
   "metadata": {
    "id": "rOlRo2kXVzWR"
   },
   "outputs": [],
   "source": [
    "output = "
   ]
  },
  {
   "cell_type": "markdown",
   "metadata": {
    "id": "TgFTyxpQYo9S"
   },
   "source": [
    "From 2 numpy arrays, extract the indexes in which the elements in the 2 arrays match"
   ]
  },
  {
   "cell_type": "code",
   "execution_count": null,
   "metadata": {
    "id": "qc1Qnsg9YqGj"
   },
   "outputs": [],
   "source": [
    "a = np.array([1, 3, 5, 4])\n",
    "b = np.array([1, 2, 6, 7])\n"
   ]
  },
  {
   "cell_type": "markdown",
   "metadata": {
    "id": "T__HHIG8Z9o-"
   },
   "source": [
    "Given 2 numpy arrays as matrices, output the result of multiplying the 2 matrices (as a numpy array)"
   ]
  },
  {
   "cell_type": "code",
   "execution_count": null,
   "metadata": {
    "id": "7spbTozHaLIb"
   },
   "outputs": [],
   "source": [
    "a = np.array([[1, 3, 2], [5, 3, 6], [7, 5, 4], [3, 6, 3]])\n",
    "b = np.array([[1, 4, 2, 6], [3, 5, 1, 6], [6, 4, 1, 2]])\n"
   ]
  },
  {
   "cell_type": "markdown",
   "metadata": {
    "id": "E4vHSvm0fGr9"
   },
   "source": [
    "Given a numpy array whose underlying data is of 'int32' type. Change the dtype of the given object to 'float64'"
   ]
  },
  {
   "cell_type": "code",
   "execution_count": null,
   "metadata": {
    "id": "B5lAt2HOfJx-"
   },
   "outputs": [],
   "source": [
    "arr = np.array([10, 20, 30, 40, 50])\n",
    "print(f\"The current data type is {arr.dtype}\")\n",
    "#Convert to float 64\n",
    "print(f\"The dât type after the typecasting is {arr.dtype}\")"
   ]
  }
 ],
 "metadata": {
  "colab": {
   "provenance": []
  },
  "kernelspec": {
   "display_name": "Python 3 (ipykernel)",
   "language": "python",
   "name": "python3"
  },
  "language_info": {
   "codemirror_mode": {
    "name": "ipython",
    "version": 3
   },
   "file_extension": ".py",
   "mimetype": "text/x-python",
   "name": "python",
   "nbconvert_exporter": "python",
   "pygments_lexer": "ipython3",
   "version": "3.10.9"
  }
 },
 "nbformat": 4,
 "nbformat_minor": 1
}
