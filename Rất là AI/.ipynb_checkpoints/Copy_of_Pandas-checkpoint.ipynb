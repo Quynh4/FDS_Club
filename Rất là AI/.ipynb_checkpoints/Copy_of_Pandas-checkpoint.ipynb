{
 "cells": [
  {
   "cell_type": "code",
   "execution_count": 1,
   "metadata": {
    "id": "l1BiDMzNM_4-"
   },
   "outputs": [],
   "source": [
    "import pandas as pd\n",
    "import numpy as np"
   ]
  },
  {
   "cell_type": "code",
   "execution_count": 2,
   "metadata": {
    "id": "e3vE0B2LZ5vt"
   },
   "outputs": [],
   "source": [
    "# đọc file Building_Permits\n",
    "# lưu ý vì do code offline nên khi tải file về thì phải chọn đúng đường dẫn.\n",
    "# có thể tự đặt tên biến tuỳ thích"
   ]
  },
  {
   "cell_type": "code",
   "execution_count": null,
   "metadata": {
    "id": "RCR5ph0bNmuj"
   },
   "outputs": [],
   "source": [
    "df = pd.read_csv('')\n",
    "df.head(5)"
   ]
  },
  {
   "cell_type": "code",
   "execution_count": null,
   "metadata": {
    "id": "xJFgKaLvd2Yl"
   },
   "outputs": [],
   "source": [
    "df1 = pd.DataFrame({'Môn học': [\"PFP\", 'PRO', 'PRF', 'DBI', 'MAE', 'MAD', 'MAS', 'MAI'],\n",
    "                    'Mentor': ['Trần An', 'Tuấn Anh', 'Nghĩa', 'Tony', 'Tony', 'Hoàng', 'Dũng', 'Cường']})\n",
    "df2 = pd.DataFrame({'Môn học': [\"PFP\", 'PRO', 'PRF', 'DBI', 'MAE', 'MAD', 'MAS', 'MAI'],\n",
    "                    'Thời gian training': ['Tối thứ 4 15/03', 'Tối thứ 5 16/03', 'Tối thứ năm 16/03', 'Tối thứ 4 15/03','','Thứ 4 22/03','','T4,5,6']})"
   ]
  },
  {
   "cell_type": "markdown",
   "metadata": {
    "id": "LLOShHnid5Xj"
   },
   "source": [
    "# Q1: gộp 2 cái dataframe lại thành một dataframe với tên gọi là 'df' sao cho df có dạng\n",
    "|   | mon hoc | mentor   | thoi gian trainning |\n",
    "|---|---------|----------|---------------------|\n",
    "| 0 | PFP     | Trần An  | Tối thứ 4 15/03     |\n",
    "| 1 | PRO     | Tuấn Anh | Tối thứ 5 16/03     |\n",
    "| 2 | PRF     | Nghĩa    | Tối thứ năm 16/03   |\n",
    "| 3 | DBI     | Tony     | Tối thứ 4 15/03     |\n",
    "| 4 | MAE     | Tony     |                     |\n",
    "| 5 | MAD     | Hoàng    | Thứ 4 22/03         |\n",
    "| 6 | MAS     | Dũng     |                     |\n",
    "| 7 | MAI     | Cường    | T4,5,6              |"
   ]
  },
  {
   "cell_type": "code",
   "execution_count": null,
   "metadata": {
    "id": "9nF8e6bFd-Sy"
   },
   "outputs": [],
   "source": [
    "#code your Q1 here :>"
   ]
  },
  {
   "cell_type": "markdown",
   "metadata": {
    "id": "dCiUN9PYemfp"
   },
   "source": [
    "# Q2: giờ thì đưa df đó thành csv với tên file là 'lịch dạy thêm demo.csv'"
   ]
  },
  {
   "cell_type": "code",
   "execution_count": null,
   "metadata": {
    "id": "H8ymuXWte0Os"
   },
   "outputs": [],
   "source": [
    "#code your Q2 here :>"
   ]
  },
  {
   "cell_type": "markdown",
   "metadata": {
    "id": "5gBAA0Owe58F"
   },
   "source": [
    "# Q3: nhập file 'ChicagoPublicSchools.csv' rồi dùng hàm iloc để lấy được Tên trường 'Abraham Lincoln Elementary School'"
   ]
  },
  {
   "cell_type": "code",
   "execution_count": null,
   "metadata": {
    "id": "88IEKBeMe93t"
   },
   "outputs": [],
   "source": [
    "# code your Q3 here :>"
   ]
  },
  {
   "cell_type": "markdown",
   "metadata": {
    "id": "2sQl3Z4QfClY"
   },
   "source": [
    "# Q3.1: tiếp tục dùng hàm iloc để lấy được 5 hàng đầu tiên"
   ]
  },
  {
   "cell_type": "code",
   "execution_count": null,
   "metadata": {
    "id": "oQle2YVtfFCW"
   },
   "outputs": [],
   "source": [
    "# code your Q3.1 here :>"
   ]
  },
  {
   "cell_type": "markdown",
   "metadata": {
    "id": "CL7XcEEefQnl"
   },
   "source": [
    "#Q3.2 dùng hàm loc để lấy được Tên trường 'Abraham Lincoln Elementary School'"
   ]
  },
  {
   "cell_type": "code",
   "execution_count": null,
   "metadata": {
    "id": "OP5lmFTUfR54"
   },
   "outputs": [],
   "source": [
    "# code your Q3.2 here :>"
   ]
  },
  {
   "cell_type": "markdown",
   "metadata": {
    "id": "u6ND0LQGfUGG"
   },
   "source": [
    "Q3.3 giờ tiếp tục dùng hàm loc để lấy được 5 hàng đầu"
   ]
  },
  {
   "cell_type": "code",
   "execution_count": null,
   "metadata": {
    "id": "2bsRwWE9fagF"
   },
   "outputs": [],
   "source": [
    "# code your Q3.3 here :>"
   ]
  },
  {
   "cell_type": "markdown",
   "metadata": {
    "id": "yJYxXB3EX1fU"
   },
   "source": [
    "# Tìm tổng số missing value"
   ]
  },
  {
   "cell_type": "markdown",
   "metadata": {
    "id": "4LcCuJFVeezh"
   },
   "source": []
  },
  {
   "cell_type": "code",
   "execution_count": null,
   "metadata": {
    "id": "zGF8lAvvPufy"
   },
   "outputs": [],
   "source": [
    "# lấy số điểm dữ liệu bị thiếu trên mỗi cột\n",
    "\n",
    "# Tính tổng số missing value\n",
    "total_cells = np.product(#code tại đây) #\n",
    "total_missing = \n",
    "# Hiển thị total_cels và total_missing\n",
    "print(#code tại đây)"
   ]
  },
  {
   "cell_type": "markdown",
   "metadata": {
    "id": "B9dnPC4sV34O"
   },
   "source": [
    "![Screenshot 2023-04-01 032320.png](data:image/png;base64,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)"
   ]
  },
  {
   "cell_type": "markdown",
   "metadata": {
    "id": "nw1t-Q-hYH74"
   },
   "source": [
    "# Drop missinng value theo Rows"
   ]
  },
  {
   "cell_type": "code",
   "execution_count": null,
   "metadata": {
    "id": "a4Fe8PHcVnbV"
   },
   "outputs": [],
   "source": [
    "# Tạo 1 bản sao DataFrame mới rồi drop trong bản sao. Không drop trực tiếp lên DataFrame gốc\n"
   ]
  },
  {
   "cell_type": "markdown",
   "metadata": {
    "id": "BlWcZqvTYl5K"
   },
   "source": [
    "# Drop missing value theo Columns"
   ]
  },
  {
   "cell_type": "code",
   "execution_count": null,
   "metadata": {
    "id": "_uBzqUPyY1_b"
   },
   "outputs": [],
   "source": [
    "df_with_na_dropped = #code ở đây\n",
    "\n",
    "# So sánh số lượng cột đã xoá\n",
    "cols_in_original_dataset = \n",
    "print(cols_in_original_dataset) # số cột ban đầu\n",
    "cols_in_na_dropped = \n",
    "print(cols_in_na_dropped) # số cột còn lại\n",
    "dropped_columns = \n",
    "print(dropped_columns) # số cột đã xoá"
   ]
  },
  {
   "cell_type": "markdown",
   "metadata": {
    "id": "stymY8K4avjp"
   },
   "source": [
    "![Screenshot 2023-04-01 034519.png](data:image/png;base64,iVBORw0KGgoAAAANSUhEUgAAADYAAABXCAYAAABP7bYiAAAAAXNSR0IArs4c6QAAAARnQU1BAACxjwv8YQUAAAAJcEhZcwAAEnQAABJ0Ad5mH3gAAANhSURBVHhe7ZoxaCJBFIbfHViYIoUGJEhSipDGUgubQEhnk5DWwhRpRExhG5IyhRBsbCzSBYmNnVhKrCwE0SJlJIiFIVhoYZHjn5vN7XmbZNZ153bCfLDs7siCP+/Nm5l/5kc8Hn+jb8hPfv92aGGqoYWphhamGt9W2MoD9MXFBe3u7tJsNqNyuUz9fp//8uc3M09PT3R5ecnf3GclYScnJ3R4eMierYQtc3BwQEdHRzQajaSJs52Ke3t7lEwmWQRwidBsNpmora0t9r0MbAs7Pj5m9/v7e3a3w3w+p9fXV/7mLraEIQXRd1qt1qept4zxXafToefnZ97qLsLCzClYrVZ568dks1mqVCrsQn/sdrtC360LYWF2U7BUKlEmk2FXsVikSCTC2jzVx1DVtre3baegAb6p1+vk8/lof3+ft7qLULlHWsViMf5mzVdlH5E6Ozujx8dHFjm3cbSCxkCMEv7VOAaMsa/RaEjpa7bL/SoglZGCooVnHaw9YkbKbWxssHewWCyoVquxgVoWjoR5GSmp+D/QwlRDC1MNLUw1tDDV0MJUw/Zc0TzJxXLfam0VDocpl8tRMBjkLfJ9ReGI4c9eX18zUb1ej7f+iyFqOBy+WwNYg8HMwWpAFsLCTk9P2Z/FavozCw0uVKFQ+CuSWIMhYrAXsDaTgbAwpJGTJf3Lywt/koO04hEIBPiTHKQIM1yu6XRKg8GAt7qL68JQRVOpFLPePOkErwIqZDqdfh8aPOkE28U8ln003rmJa8IwPEAUyrxsUcAVYcaOpuzZhhnhKZV5F9MKw+E1di9RLKyYTCZ0c3PjehHRvqJqaGGqoYWphhamGlqYamhhqiE8V7Sa3H61aW6cDxE5+rduHE2CsTyBl7EszlgJwN8IhULk9/ulC3OUiu12m92j0Si7A0Q2kUiw81N3d3e8VT5r6WPj8Zg//T50mc/npUbHipWFwdNAdGCpPTw88FbvYEsYrDT4FziDeHV1xfrO7e2tNEvNDraEIb1Q6YzNBpxkOz8/Z21ew1EfQ/Rg2OCQJaLpJRwXD9mbDaI4EoYCsrOzI/V0tiiOhMEU3dzcZCXeawVEeOZhdXzWyhA1W9tWaF/RIY6Lh1fRwlRDC1MNLUw1tDDV0MJUQwtTDS1MNbQwtSD6BauPiQIv+XdqAAAAAElFTkSuQmCC)"
   ]
  },
  {
   "cell_type": "markdown",
   "metadata": {
    "id": "Begyp8cIbEms"
   },
   "source": [
    "# Thay thế các giá trị NaN bằng giá trị 0"
   ]
  },
  {
   "cell_type": "code",
   "execution_count": null,
   "metadata": {
    "id": "11cW-s0caHLA"
   },
   "outputs": [],
   "source": [
    "df_with_na_imputed =  #code ở đây"
   ]
  }
 ],
 "metadata": {
  "colab": {
   "provenance": []
  },
  "kernelspec": {
   "display_name": "Python 3 (ipykernel)",
   "language": "python",
   "name": "python3"
  },
  "language_info": {
   "codemirror_mode": {
    "name": "ipython",
    "version": 3
   },
   "file_extension": ".py",
   "mimetype": "text/x-python",
   "name": "python",
   "nbconvert_exporter": "python",
   "pygments_lexer": "ipython3",
   "version": "3.10.9"
  }
 },
 "nbformat": 4,
 "nbformat_minor": 1
}
