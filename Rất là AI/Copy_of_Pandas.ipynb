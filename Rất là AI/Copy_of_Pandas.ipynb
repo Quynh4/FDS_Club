{
 "cells": [
  {
   "cell_type": "code",
   "execution_count": 1,
   "metadata": {
    "id": "l1BiDMzNM_4-"
   },
   "outputs": [],
   "source": [
    "import pandas as pd\n",
    "import numpy as np"
   ]
  },
  {
   "cell_type": "code",
   "execution_count": 2,
   "metadata": {
    "id": "e3vE0B2LZ5vt"
   },
   "outputs": [],
   "source": [
    "# đọc file Building_Permits\n",
    "# lưu ý vì do code offline nên khi tải file về thì phải chọn đúng đường dẫn.\n",
    "# có thể tự đặt tên biến tuỳ thích"
   ]
  },
  {
   "cell_type": "code",
   "execution_count": 8,
   "metadata": {
    "id": "RCR5ph0bNmuj"
   },
   "outputs": [
    {
     "name": "stderr",
     "output_type": "stream",
     "text": [
      "C:\\Users\\NITRO 5\\AppData\\Local\\Temp\\ipykernel_4512\\3592621272.py:1: DtypeWarning: Columns (22,32) have mixed types. Specify dtype option on import or set low_memory=False.\n",
      "  df = pd.read_csv('D:\\Building_Permits.csv')\n"
     ]
    },
    {
     "data": {
      "text/html": [
       "<div>\n",
       "<style scoped>\n",
       "    .dataframe tbody tr th:only-of-type {\n",
       "        vertical-align: middle;\n",
       "    }\n",
       "\n",
       "    .dataframe tbody tr th {\n",
       "        vertical-align: top;\n",
       "    }\n",
       "\n",
       "    .dataframe thead th {\n",
       "        text-align: right;\n",
       "    }\n",
       "</style>\n",
       "<table border=\"1\" class=\"dataframe\">\n",
       "  <thead>\n",
       "    <tr style=\"text-align: right;\">\n",
       "      <th></th>\n",
       "      <th>Permit Number</th>\n",
       "      <th>Permit Type</th>\n",
       "      <th>Permit Type Definition</th>\n",
       "      <th>Permit Creation Date</th>\n",
       "      <th>Block</th>\n",
       "      <th>Lot</th>\n",
       "      <th>Street Number</th>\n",
       "      <th>Street Number Suffix</th>\n",
       "      <th>Street Name</th>\n",
       "      <th>Street Suffix</th>\n",
       "      <th>...</th>\n",
       "      <th>Existing Construction Type</th>\n",
       "      <th>Existing Construction Type Description</th>\n",
       "      <th>Proposed Construction Type</th>\n",
       "      <th>Proposed Construction Type Description</th>\n",
       "      <th>Site Permit</th>\n",
       "      <th>Supervisor District</th>\n",
       "      <th>Neighborhoods - Analysis Boundaries</th>\n",
       "      <th>Zipcode</th>\n",
       "      <th>Location</th>\n",
       "      <th>Record ID</th>\n",
       "    </tr>\n",
       "  </thead>\n",
       "  <tbody>\n",
       "    <tr>\n",
       "      <th>0</th>\n",
       "      <td>201505065519</td>\n",
       "      <td>4</td>\n",
       "      <td>sign - erect</td>\n",
       "      <td>05/06/2015</td>\n",
       "      <td>0326</td>\n",
       "      <td>023</td>\n",
       "      <td>140</td>\n",
       "      <td>NaN</td>\n",
       "      <td>Ellis</td>\n",
       "      <td>St</td>\n",
       "      <td>...</td>\n",
       "      <td>3.0</td>\n",
       "      <td>constr type 3</td>\n",
       "      <td>NaN</td>\n",
       "      <td>NaN</td>\n",
       "      <td>NaN</td>\n",
       "      <td>3.0</td>\n",
       "      <td>Tenderloin</td>\n",
       "      <td>94102.0</td>\n",
       "      <td>(37.785719256680785, -122.40852313194863)</td>\n",
       "      <td>1380611233945</td>\n",
       "    </tr>\n",
       "    <tr>\n",
       "      <th>1</th>\n",
       "      <td>201604195146</td>\n",
       "      <td>4</td>\n",
       "      <td>sign - erect</td>\n",
       "      <td>04/19/2016</td>\n",
       "      <td>0306</td>\n",
       "      <td>007</td>\n",
       "      <td>440</td>\n",
       "      <td>NaN</td>\n",
       "      <td>Geary</td>\n",
       "      <td>St</td>\n",
       "      <td>...</td>\n",
       "      <td>3.0</td>\n",
       "      <td>constr type 3</td>\n",
       "      <td>NaN</td>\n",
       "      <td>NaN</td>\n",
       "      <td>NaN</td>\n",
       "      <td>3.0</td>\n",
       "      <td>Tenderloin</td>\n",
       "      <td>94102.0</td>\n",
       "      <td>(37.78733980600732, -122.41063199757738)</td>\n",
       "      <td>1420164406718</td>\n",
       "    </tr>\n",
       "    <tr>\n",
       "      <th>2</th>\n",
       "      <td>201605278609</td>\n",
       "      <td>3</td>\n",
       "      <td>additions alterations or repairs</td>\n",
       "      <td>05/27/2016</td>\n",
       "      <td>0595</td>\n",
       "      <td>203</td>\n",
       "      <td>1647</td>\n",
       "      <td>NaN</td>\n",
       "      <td>Pacific</td>\n",
       "      <td>Av</td>\n",
       "      <td>...</td>\n",
       "      <td>1.0</td>\n",
       "      <td>constr type 1</td>\n",
       "      <td>1.0</td>\n",
       "      <td>constr type 1</td>\n",
       "      <td>NaN</td>\n",
       "      <td>3.0</td>\n",
       "      <td>Russian Hill</td>\n",
       "      <td>94109.0</td>\n",
       "      <td>(37.7946573324287, -122.42232562979227)</td>\n",
       "      <td>1424856504716</td>\n",
       "    </tr>\n",
       "    <tr>\n",
       "      <th>3</th>\n",
       "      <td>201611072166</td>\n",
       "      <td>8</td>\n",
       "      <td>otc alterations permit</td>\n",
       "      <td>11/07/2016</td>\n",
       "      <td>0156</td>\n",
       "      <td>011</td>\n",
       "      <td>1230</td>\n",
       "      <td>NaN</td>\n",
       "      <td>Pacific</td>\n",
       "      <td>Av</td>\n",
       "      <td>...</td>\n",
       "      <td>5.0</td>\n",
       "      <td>wood frame (5)</td>\n",
       "      <td>5.0</td>\n",
       "      <td>wood frame (5)</td>\n",
       "      <td>NaN</td>\n",
       "      <td>3.0</td>\n",
       "      <td>Nob Hill</td>\n",
       "      <td>94109.0</td>\n",
       "      <td>(37.79595867909168, -122.41557405519474)</td>\n",
       "      <td>1443574295566</td>\n",
       "    </tr>\n",
       "    <tr>\n",
       "      <th>4</th>\n",
       "      <td>201611283529</td>\n",
       "      <td>6</td>\n",
       "      <td>demolitions</td>\n",
       "      <td>11/28/2016</td>\n",
       "      <td>0342</td>\n",
       "      <td>001</td>\n",
       "      <td>950</td>\n",
       "      <td>NaN</td>\n",
       "      <td>Market</td>\n",
       "      <td>St</td>\n",
       "      <td>...</td>\n",
       "      <td>3.0</td>\n",
       "      <td>constr type 3</td>\n",
       "      <td>NaN</td>\n",
       "      <td>NaN</td>\n",
       "      <td>NaN</td>\n",
       "      <td>6.0</td>\n",
       "      <td>Tenderloin</td>\n",
       "      <td>94102.0</td>\n",
       "      <td>(37.78315261897309, -122.40950883997789)</td>\n",
       "      <td>144548169992</td>\n",
       "    </tr>\n",
       "  </tbody>\n",
       "</table>\n",
       "<p>5 rows × 43 columns</p>\n",
       "</div>"
      ],
      "text/plain": [
       "  Permit Number  Permit Type            Permit Type Definition  \\\n",
       "0  201505065519            4                      sign - erect   \n",
       "1  201604195146            4                      sign - erect   \n",
       "2  201605278609            3  additions alterations or repairs   \n",
       "3  201611072166            8            otc alterations permit   \n",
       "4  201611283529            6                       demolitions   \n",
       "\n",
       "  Permit Creation Date Block  Lot  Street Number Street Number Suffix  \\\n",
       "0           05/06/2015  0326  023            140                  NaN   \n",
       "1           04/19/2016  0306  007            440                  NaN   \n",
       "2           05/27/2016  0595  203           1647                  NaN   \n",
       "3           11/07/2016  0156  011           1230                  NaN   \n",
       "4           11/28/2016  0342  001            950                  NaN   \n",
       "\n",
       "  Street Name Street Suffix  ...  Existing Construction Type  \\\n",
       "0       Ellis            St  ...                         3.0   \n",
       "1       Geary            St  ...                         3.0   \n",
       "2     Pacific            Av  ...                         1.0   \n",
       "3     Pacific            Av  ...                         5.0   \n",
       "4      Market            St  ...                         3.0   \n",
       "\n",
       "  Existing Construction Type Description Proposed Construction Type  \\\n",
       "0                          constr type 3                        NaN   \n",
       "1                          constr type 3                        NaN   \n",
       "2                          constr type 1                        1.0   \n",
       "3                         wood frame (5)                        5.0   \n",
       "4                          constr type 3                        NaN   \n",
       "\n",
       "  Proposed Construction Type Description Site Permit Supervisor District  \\\n",
       "0                                    NaN         NaN                 3.0   \n",
       "1                                    NaN         NaN                 3.0   \n",
       "2                          constr type 1         NaN                 3.0   \n",
       "3                         wood frame (5)         NaN                 3.0   \n",
       "4                                    NaN         NaN                 6.0   \n",
       "\n",
       "  Neighborhoods - Analysis Boundaries  Zipcode  \\\n",
       "0                          Tenderloin  94102.0   \n",
       "1                          Tenderloin  94102.0   \n",
       "2                        Russian Hill  94109.0   \n",
       "3                            Nob Hill  94109.0   \n",
       "4                          Tenderloin  94102.0   \n",
       "\n",
       "                                    Location      Record ID  \n",
       "0  (37.785719256680785, -122.40852313194863)  1380611233945  \n",
       "1   (37.78733980600732, -122.41063199757738)  1420164406718  \n",
       "2    (37.7946573324287, -122.42232562979227)  1424856504716  \n",
       "3   (37.79595867909168, -122.41557405519474)  1443574295566  \n",
       "4   (37.78315261897309, -122.40950883997789)   144548169992  \n",
       "\n",
       "[5 rows x 43 columns]"
      ]
     },
     "execution_count": 8,
     "metadata": {},
     "output_type": "execute_result"
    }
   ],
   "source": [
    "df = pd.read_csv('D:\\Building_Permits.csv')\n",
    "df.head(5)"
   ]
  },
  {
   "cell_type": "code",
   "execution_count": 15,
   "metadata": {
    "id": "xJFgKaLvd2Yl"
   },
   "outputs": [],
   "source": [
    "df1 = pd.DataFrame({'Môn học': [\"PFP\", 'PRO', 'PRF', 'DBI', 'MAE', 'MAD', 'MAS', 'MAI'],\n",
    "                    'Mentor': ['Trần An', 'Tuấn Anh', 'Nghĩa', 'Tony', 'Tony', 'Hoàng', 'Dũng', 'Cường']})\n",
    "df2 = pd.DataFrame({'Môn học': [\"PFP\", 'PRO', 'PRF', 'DBI', 'MAE', 'MAD', 'MAS', 'MAI'],\n",
    "                    'Thời gian training': ['Tối thứ 4 15/03', 'Tối thứ 5 16/03', 'Tối thứ năm 16/03', 'Tối thứ 4 15/03','','Thứ 4 22/03','','T4,5,6']})"
   ]
  },
  {
   "cell_type": "markdown",
   "metadata": {
    "id": "LLOShHnid5Xj"
   },
   "source": [
    "# Q1: gộp 2 cái dataframe lại thành một dataframe với tên gọi là 'df' sao cho df có dạng\n",
    "|   | mon hoc | mentor   | thoi gian trainning |\n",
    "|---|---------|----------|---------------------|\n",
    "| 0 | PFP     | Trần An  | Tối thứ 4 15/03     |\n",
    "| 1 | PRO     | Tuấn Anh | Tối thứ 5 16/03     |\n",
    "| 2 | PRF     | Nghĩa    | Tối thứ năm 16/03   |\n",
    "| 3 | DBI     | Tony     | Tối thứ 4 15/03     |\n",
    "| 4 | MAE     | Tony     |                     |\n",
    "| 5 | MAD     | Hoàng    | Thứ 4 22/03         |\n",
    "| 6 | MAS     | Dũng     |                     |\n",
    "| 7 | MAI     | Cường    | T4,5,6              |"
   ]
  },
  {
   "cell_type": "code",
   "execution_count": 17,
   "metadata": {
    "id": "9nF8e6bFd-Sy",
    "scrolled": true
   },
   "outputs": [],
   "source": [
    "#code your Q1 here :>\n",
    "\n",
    "df = pd.concat([df1,df2])\n"
   ]
  },
  {
   "cell_type": "markdown",
   "metadata": {
    "id": "dCiUN9PYemfp"
   },
   "source": [
    "# Q2: giờ thì đưa df đó thành csv với tên file là 'lịch dạy thêm demo.csv'"
   ]
  },
  {
   "cell_type": "code",
   "execution_count": 22,
   "metadata": {
    "id": "H8ymuXWte0Os"
   },
   "outputs": [
    {
     "ename": "TypeError",
     "evalue": "DataFrame.rename() takes from 1 to 2 positional arguments but 3 were given",
     "output_type": "error",
     "traceback": [
      "\u001b[1;31m---------------------------------------------------------------------------\u001b[0m",
      "\u001b[1;31mTypeError\u001b[0m                                 Traceback (most recent call last)",
      "Cell \u001b[1;32mIn[22], line 3\u001b[0m\n\u001b[0;32m      1\u001b[0m \u001b[38;5;66;03m#code your Q2 here :>\u001b[39;00m\n\u001b[1;32m----> 3\u001b[0m \u001b[43mdf\u001b[49m\u001b[38;5;241;43m.\u001b[39;49m\u001b[43mrename\u001b[49m\u001b[43m(\u001b[49m\u001b[43mdf\u001b[49m\u001b[43m,\u001b[49m\u001b[43m \u001b[49m\u001b[38;5;124;43m'\u001b[39;49m\u001b[38;5;124;43mlịch dạy thêm demo.csv\u001b[39;49m\u001b[38;5;124;43m'\u001b[39;49m\u001b[43m)\u001b[49m\n",
      "\u001b[1;31mTypeError\u001b[0m: DataFrame.rename() takes from 1 to 2 positional arguments but 3 were given"
     ]
    }
   ],
   "source": [
    "#code your Q2 here :>\n",
    "\n",
    "df.rename(df, 'lịch dạy thêm demo.csv')\n"
   ]
  },
  {
   "cell_type": "markdown",
   "metadata": {
    "id": "5gBAA0Owe58F"
   },
   "source": [
    "# Q3: nhập file 'ChicagoPublicSchools.csv' rồi dùng hàm iloc để lấy được Tên trường 'Abraham Lincoln Elementary School'"
   ]
  },
  {
   "cell_type": "code",
   "execution_count": 28,
   "metadata": {
    "id": "88IEKBeMe93t"
   },
   "outputs": [
    {
     "ename": "NotImplementedError",
     "evalue": "iLocation based boolean indexing on an integer type is not available",
     "output_type": "error",
     "traceback": [
      "\u001b[1;31m---------------------------------------------------------------------------\u001b[0m",
      "\u001b[1;31mNotImplementedError\u001b[0m                       Traceback (most recent call last)",
      "Cell \u001b[1;32mIn[28], line 4\u001b[0m\n\u001b[0;32m      1\u001b[0m \u001b[38;5;66;03m# code your Q3 here :>\u001b[39;00m\n\u001b[0;32m      3\u001b[0m df \u001b[38;5;241m=\u001b[39m pd\u001b[38;5;241m.\u001b[39mread_csv(\u001b[38;5;124m'\u001b[39m\u001b[38;5;124mD:\u001b[39m\u001b[38;5;124m\\\u001b[39m\u001b[38;5;124mChicagoPublicSchools.csv\u001b[39m\u001b[38;5;124m'\u001b[39m)\n\u001b[1;32m----> 4\u001b[0m \u001b[43mdf\u001b[49m\u001b[38;5;241;43m.\u001b[39;49m\u001b[43miloc\u001b[49m\u001b[43m[\u001b[49m\u001b[43mdf\u001b[49m\u001b[43m[\u001b[49m\u001b[38;5;124;43m\"\u001b[39;49m\u001b[38;5;124;43mNAME_OF_SCHOOL\u001b[39;49m\u001b[38;5;124;43m\"\u001b[39;49m\u001b[43m]\u001b[49m\u001b[43m \u001b[49m\u001b[38;5;241;43m==\u001b[39;49m\u001b[43m \u001b[49m\u001b[38;5;124;43m'\u001b[39;49m\u001b[38;5;124;43mAbraham Lincoln Elementary School\u001b[39;49m\u001b[38;5;124;43m'\u001b[39;49m\u001b[43m \u001b[49m\u001b[43m]\u001b[49m\n",
      "File \u001b[1;32mD:\\New folder\\lib\\site-packages\\pandas\\core\\indexing.py:1073\u001b[0m, in \u001b[0;36m_LocationIndexer.__getitem__\u001b[1;34m(self, key)\u001b[0m\n\u001b[0;32m   1070\u001b[0m axis \u001b[38;5;241m=\u001b[39m \u001b[38;5;28mself\u001b[39m\u001b[38;5;241m.\u001b[39maxis \u001b[38;5;129;01mor\u001b[39;00m \u001b[38;5;241m0\u001b[39m\n\u001b[0;32m   1072\u001b[0m maybe_callable \u001b[38;5;241m=\u001b[39m com\u001b[38;5;241m.\u001b[39mapply_if_callable(key, \u001b[38;5;28mself\u001b[39m\u001b[38;5;241m.\u001b[39mobj)\n\u001b[1;32m-> 1073\u001b[0m \u001b[38;5;28;01mreturn\u001b[39;00m \u001b[38;5;28;43mself\u001b[39;49m\u001b[38;5;241;43m.\u001b[39;49m\u001b[43m_getitem_axis\u001b[49m\u001b[43m(\u001b[49m\u001b[43mmaybe_callable\u001b[49m\u001b[43m,\u001b[49m\u001b[43m \u001b[49m\u001b[43maxis\u001b[49m\u001b[38;5;241;43m=\u001b[39;49m\u001b[43maxis\u001b[49m\u001b[43m)\u001b[49m\n",
      "File \u001b[1;32mD:\\New folder\\lib\\site-packages\\pandas\\core\\indexing.py:1611\u001b[0m, in \u001b[0;36m_iLocIndexer._getitem_axis\u001b[1;34m(self, key, axis)\u001b[0m\n\u001b[0;32m   1608\u001b[0m     key \u001b[38;5;241m=\u001b[39m np\u001b[38;5;241m.\u001b[39masarray(key)\n\u001b[0;32m   1610\u001b[0m \u001b[38;5;28;01mif\u001b[39;00m com\u001b[38;5;241m.\u001b[39mis_bool_indexer(key):\n\u001b[1;32m-> 1611\u001b[0m     \u001b[38;5;28;43mself\u001b[39;49m\u001b[38;5;241;43m.\u001b[39;49m\u001b[43m_validate_key\u001b[49m\u001b[43m(\u001b[49m\u001b[43mkey\u001b[49m\u001b[43m,\u001b[49m\u001b[43m \u001b[49m\u001b[43maxis\u001b[49m\u001b[43m)\u001b[49m\n\u001b[0;32m   1612\u001b[0m     \u001b[38;5;28;01mreturn\u001b[39;00m \u001b[38;5;28mself\u001b[39m\u001b[38;5;241m.\u001b[39m_getbool_axis(key, axis\u001b[38;5;241m=\u001b[39maxis)\n\u001b[0;32m   1614\u001b[0m \u001b[38;5;66;03m# a list of integers\u001b[39;00m\n",
      "File \u001b[1;32mD:\\New folder\\lib\\site-packages\\pandas\\core\\indexing.py:1452\u001b[0m, in \u001b[0;36m_iLocIndexer._validate_key\u001b[1;34m(self, key, axis)\u001b[0m\n\u001b[0;32m   1450\u001b[0m \u001b[38;5;28;01mif\u001b[39;00m \u001b[38;5;28mhasattr\u001b[39m(key, \u001b[38;5;124m\"\u001b[39m\u001b[38;5;124mindex\u001b[39m\u001b[38;5;124m\"\u001b[39m) \u001b[38;5;129;01mand\u001b[39;00m \u001b[38;5;28misinstance\u001b[39m(key\u001b[38;5;241m.\u001b[39mindex, Index):\n\u001b[0;32m   1451\u001b[0m     \u001b[38;5;28;01mif\u001b[39;00m key\u001b[38;5;241m.\u001b[39mindex\u001b[38;5;241m.\u001b[39minferred_type \u001b[38;5;241m==\u001b[39m \u001b[38;5;124m\"\u001b[39m\u001b[38;5;124minteger\u001b[39m\u001b[38;5;124m\"\u001b[39m:\n\u001b[1;32m-> 1452\u001b[0m         \u001b[38;5;28;01mraise\u001b[39;00m \u001b[38;5;167;01mNotImplementedError\u001b[39;00m(\n\u001b[0;32m   1453\u001b[0m             \u001b[38;5;124m\"\u001b[39m\u001b[38;5;124miLocation based boolean \u001b[39m\u001b[38;5;124m\"\u001b[39m\n\u001b[0;32m   1454\u001b[0m             \u001b[38;5;124m\"\u001b[39m\u001b[38;5;124mindexing on an integer type \u001b[39m\u001b[38;5;124m\"\u001b[39m\n\u001b[0;32m   1455\u001b[0m             \u001b[38;5;124m\"\u001b[39m\u001b[38;5;124mis not available\u001b[39m\u001b[38;5;124m\"\u001b[39m\n\u001b[0;32m   1456\u001b[0m         )\n\u001b[0;32m   1457\u001b[0m     \u001b[38;5;28;01mraise\u001b[39;00m \u001b[38;5;167;01mValueError\u001b[39;00m(\n\u001b[0;32m   1458\u001b[0m         \u001b[38;5;124m\"\u001b[39m\u001b[38;5;124miLocation based boolean indexing cannot use \u001b[39m\u001b[38;5;124m\"\u001b[39m\n\u001b[0;32m   1459\u001b[0m         \u001b[38;5;124m\"\u001b[39m\u001b[38;5;124man indexable as a mask\u001b[39m\u001b[38;5;124m\"\u001b[39m\n\u001b[0;32m   1460\u001b[0m     )\n\u001b[0;32m   1461\u001b[0m \u001b[38;5;28;01mreturn\u001b[39;00m\n",
      "\u001b[1;31mNotImplementedError\u001b[0m: iLocation based boolean indexing on an integer type is not available"
     ]
    }
   ],
   "source": [
    "# code your Q3 here :>\n",
    "\n",
    "df = pd.read_csv('D:\\ChicagoPublicSchools.csv')\n",
    "df.iloc[df[\"NAME_OF_SCHOOL\"] == 'Abraham Lincoln Elementary School' ]\n",
    "\n"
   ]
  },
  {
   "cell_type": "markdown",
   "metadata": {
    "id": "2sQl3Z4QfClY"
   },
   "source": [
    "# Q3.1: tiếp tục dùng hàm iloc để lấy được 5 hàng đầu tiên"
   ]
  },
  {
   "cell_type": "code",
   "execution_count": null,
   "metadata": {
    "id": "oQle2YVtfFCW"
   },
   "outputs": [],
   "source": [
    "# code your Q3.1 here :>"
   ]
  },
  {
   "cell_type": "markdown",
   "metadata": {
    "id": "CL7XcEEefQnl"
   },
   "source": [
    "#Q3.2 dùng hàm loc để lấy được Tên trường 'Abraham Lincoln Elementary School'"
   ]
  },
  {
   "cell_type": "code",
   "execution_count": 27,
   "metadata": {
    "id": "OP5lmFTUfR54"
   },
   "outputs": [
    {
     "ename": "KeyError",
     "evalue": "'NAME_OF_SCHOOL'",
     "output_type": "error",
     "traceback": [
      "\u001b[1;31m---------------------------------------------------------------------------\u001b[0m",
      "\u001b[1;31mKeyError\u001b[0m                                  Traceback (most recent call last)",
      "File \u001b[1;32mD:\\New folder\\lib\\site-packages\\pandas\\core\\indexes\\base.py:3802\u001b[0m, in \u001b[0;36mIndex.get_loc\u001b[1;34m(self, key, method, tolerance)\u001b[0m\n\u001b[0;32m   3801\u001b[0m \u001b[38;5;28;01mtry\u001b[39;00m:\n\u001b[1;32m-> 3802\u001b[0m     \u001b[38;5;28;01mreturn\u001b[39;00m \u001b[38;5;28;43mself\u001b[39;49m\u001b[38;5;241;43m.\u001b[39;49m\u001b[43m_engine\u001b[49m\u001b[38;5;241;43m.\u001b[39;49m\u001b[43mget_loc\u001b[49m\u001b[43m(\u001b[49m\u001b[43mcasted_key\u001b[49m\u001b[43m)\u001b[49m\n\u001b[0;32m   3803\u001b[0m \u001b[38;5;28;01mexcept\u001b[39;00m \u001b[38;5;167;01mKeyError\u001b[39;00m \u001b[38;5;28;01mas\u001b[39;00m err:\n",
      "File \u001b[1;32mD:\\New folder\\lib\\site-packages\\pandas\\_libs\\index.pyx:138\u001b[0m, in \u001b[0;36mpandas._libs.index.IndexEngine.get_loc\u001b[1;34m()\u001b[0m\n",
      "File \u001b[1;32mD:\\New folder\\lib\\site-packages\\pandas\\_libs\\index.pyx:165\u001b[0m, in \u001b[0;36mpandas._libs.index.IndexEngine.get_loc\u001b[1;34m()\u001b[0m\n",
      "File \u001b[1;32mpandas\\_libs\\hashtable_class_helper.pxi:5745\u001b[0m, in \u001b[0;36mpandas._libs.hashtable.PyObjectHashTable.get_item\u001b[1;34m()\u001b[0m\n",
      "File \u001b[1;32mpandas\\_libs\\hashtable_class_helper.pxi:5753\u001b[0m, in \u001b[0;36mpandas._libs.hashtable.PyObjectHashTable.get_item\u001b[1;34m()\u001b[0m\n",
      "\u001b[1;31mKeyError\u001b[0m: 'NAME_OF_SCHOOL'",
      "\nThe above exception was the direct cause of the following exception:\n",
      "\u001b[1;31mKeyError\u001b[0m                                  Traceback (most recent call last)",
      "Cell \u001b[1;32mIn[27], line 3\u001b[0m\n\u001b[0;32m      1\u001b[0m \u001b[38;5;66;03m# code your Q3.2 here :>\u001b[39;00m\n\u001b[1;32m----> 3\u001b[0m df\u001b[38;5;241m.\u001b[39mloc[\u001b[43mdf\u001b[49m\u001b[43m[\u001b[49m\u001b[38;5;124;43m\"\u001b[39;49m\u001b[38;5;124;43mNAME_OF_SCHOOL\u001b[39;49m\u001b[38;5;124;43m\"\u001b[39;49m\u001b[43m]\u001b[49m \u001b[38;5;241m==\u001b[39m \u001b[38;5;124m'\u001b[39m\u001b[38;5;124mAbraham Lincoln Elementary School\u001b[39m\u001b[38;5;124m'\u001b[39m]\n",
      "File \u001b[1;32mD:\\New folder\\lib\\site-packages\\pandas\\core\\frame.py:3807\u001b[0m, in \u001b[0;36mDataFrame.__getitem__\u001b[1;34m(self, key)\u001b[0m\n\u001b[0;32m   3805\u001b[0m \u001b[38;5;28;01mif\u001b[39;00m \u001b[38;5;28mself\u001b[39m\u001b[38;5;241m.\u001b[39mcolumns\u001b[38;5;241m.\u001b[39mnlevels \u001b[38;5;241m>\u001b[39m \u001b[38;5;241m1\u001b[39m:\n\u001b[0;32m   3806\u001b[0m     \u001b[38;5;28;01mreturn\u001b[39;00m \u001b[38;5;28mself\u001b[39m\u001b[38;5;241m.\u001b[39m_getitem_multilevel(key)\n\u001b[1;32m-> 3807\u001b[0m indexer \u001b[38;5;241m=\u001b[39m \u001b[38;5;28;43mself\u001b[39;49m\u001b[38;5;241;43m.\u001b[39;49m\u001b[43mcolumns\u001b[49m\u001b[38;5;241;43m.\u001b[39;49m\u001b[43mget_loc\u001b[49m\u001b[43m(\u001b[49m\u001b[43mkey\u001b[49m\u001b[43m)\u001b[49m\n\u001b[0;32m   3808\u001b[0m \u001b[38;5;28;01mif\u001b[39;00m is_integer(indexer):\n\u001b[0;32m   3809\u001b[0m     indexer \u001b[38;5;241m=\u001b[39m [indexer]\n",
      "File \u001b[1;32mD:\\New folder\\lib\\site-packages\\pandas\\core\\indexes\\base.py:3804\u001b[0m, in \u001b[0;36mIndex.get_loc\u001b[1;34m(self, key, method, tolerance)\u001b[0m\n\u001b[0;32m   3802\u001b[0m     \u001b[38;5;28;01mreturn\u001b[39;00m \u001b[38;5;28mself\u001b[39m\u001b[38;5;241m.\u001b[39m_engine\u001b[38;5;241m.\u001b[39mget_loc(casted_key)\n\u001b[0;32m   3803\u001b[0m \u001b[38;5;28;01mexcept\u001b[39;00m \u001b[38;5;167;01mKeyError\u001b[39;00m \u001b[38;5;28;01mas\u001b[39;00m err:\n\u001b[1;32m-> 3804\u001b[0m     \u001b[38;5;28;01mraise\u001b[39;00m \u001b[38;5;167;01mKeyError\u001b[39;00m(key) \u001b[38;5;28;01mfrom\u001b[39;00m \u001b[38;5;21;01merr\u001b[39;00m\n\u001b[0;32m   3805\u001b[0m \u001b[38;5;28;01mexcept\u001b[39;00m \u001b[38;5;167;01mTypeError\u001b[39;00m:\n\u001b[0;32m   3806\u001b[0m     \u001b[38;5;66;03m# If we have a listlike key, _check_indexing_error will raise\u001b[39;00m\n\u001b[0;32m   3807\u001b[0m     \u001b[38;5;66;03m#  InvalidIndexError. Otherwise we fall through and re-raise\u001b[39;00m\n\u001b[0;32m   3808\u001b[0m     \u001b[38;5;66;03m#  the TypeError.\u001b[39;00m\n\u001b[0;32m   3809\u001b[0m     \u001b[38;5;28mself\u001b[39m\u001b[38;5;241m.\u001b[39m_check_indexing_error(key)\n",
      "\u001b[1;31mKeyError\u001b[0m: 'NAME_OF_SCHOOL'"
     ]
    }
   ],
   "source": [
    "# code your Q3.2 here :>\n",
    "\n",
    "df.loc[df[\"NAME_OF_SCHOOL\"] == 'Abraham Lincoln Elementary School']"
   ]
  },
  {
   "cell_type": "markdown",
   "metadata": {
    "id": "u6ND0LQGfUGG"
   },
   "source": [
    "Q3.3 giờ tiếp tục dùng hàm loc để lấy được 5 hàng đầu"
   ]
  },
  {
   "cell_type": "code",
   "execution_count": null,
   "metadata": {
    "id": "2bsRwWE9fagF"
   },
   "outputs": [],
   "source": [
    "# code your Q3.3 here :>\n",
    "\n"
   ]
  },
  {
   "cell_type": "markdown",
   "metadata": {
    "id": "yJYxXB3EX1fU"
   },
   "source": [
    "# Tìm tổng số missing value"
   ]
  },
  {
   "cell_type": "markdown",
   "metadata": {
    "id": "4LcCuJFVeezh"
   },
   "source": []
  },
  {
   "cell_type": "code",
   "execution_count": null,
   "metadata": {
    "id": "zGF8lAvvPufy"
   },
   "outputs": [],
   "source": [
    "# lấy số điểm dữ liệu bị thiếu trên mỗi cột\n",
    "\n",
    "# Tính tổng số missing value\n",
    "total_cells = np.product(#code tại đây) #\n",
    "total_missing = \n",
    "# Hiển thị total_cels và total_missing\n",
    "print(#code tại đây)"
   ]
  },
  {
   "cell_type": "markdown",
   "metadata": {
    "id": "B9dnPC4sV34O"
   },
   "source": [
    "![Screenshot 2023-04-01 032320.png](data:image/png;base64,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)"
   ]
  },
  {
   "cell_type": "markdown",
   "metadata": {
    "id": "nw1t-Q-hYH74"
   },
   "source": [
    "# Drop missinng value theo Rows"
   ]
  },
  {
   "cell_type": "code",
   "execution_count": null,
   "metadata": {
    "id": "a4Fe8PHcVnbV"
   },
   "outputs": [],
   "source": [
    "# Tạo 1 bản sao DataFrame mới rồi drop trong bản sao. Không drop trực tiếp lên DataFrame gốc\n"
   ]
  },
  {
   "cell_type": "markdown",
   "metadata": {
    "id": "BlWcZqvTYl5K"
   },
   "source": [
    "# Drop missing value theo Columns"
   ]
  },
  {
   "cell_type": "code",
   "execution_count": null,
   "metadata": {
    "id": "_uBzqUPyY1_b"
   },
   "outputs": [],
   "source": [
    "df_with_na_dropped = #code ở đây\n",
    "\n",
    "# So sánh số lượng cột đã xoá\n",
    "cols_in_original_dataset = \n",
    "print(cols_in_original_dataset) # số cột ban đầu\n",
    "cols_in_na_dropped = \n",
    "print(cols_in_na_dropped) # số cột còn lại\n",
    "dropped_columns = \n",
    "print(dropped_columns) # số cột đã xoá"
   ]
  },
  {
   "cell_type": "markdown",
   "metadata": {
    "id": "stymY8K4avjp"
   },
   "source": [
    "![Screenshot 2023-04-01 034519.png](data:image/png;base64,iVBORw0KGgoAAAANSUhEUgAAADYAAABXCAYAAABP7bYiAAAAAXNSR0IArs4c6QAAAARnQU1BAACxjwv8YQUAAAAJcEhZcwAAEnQAABJ0Ad5mH3gAAANhSURBVHhe7ZoxaCJBFIbfHViYIoUGJEhSipDGUgubQEhnk5DWwhRpRExhG5IyhRBsbCzSBYmNnVhKrCwE0SJlJIiFIVhoYZHjn5vN7XmbZNZ153bCfLDs7siCP+/Nm5l/5kc8Hn+jb8hPfv92aGGqoYWphhamGt9W2MoD9MXFBe3u7tJsNqNyuUz9fp//8uc3M09PT3R5ecnf3GclYScnJ3R4eMierYQtc3BwQEdHRzQajaSJs52Ke3t7lEwmWQRwidBsNpmora0t9r0MbAs7Pj5m9/v7e3a3w3w+p9fXV/7mLraEIQXRd1qt1qept4zxXafToefnZ97qLsLCzClYrVZ568dks1mqVCrsQn/sdrtC360LYWF2U7BUKlEmk2FXsVikSCTC2jzVx1DVtre3baegAb6p1+vk8/lof3+ft7qLULlHWsViMf5mzVdlH5E6Ozujx8dHFjm3cbSCxkCMEv7VOAaMsa/RaEjpa7bL/SoglZGCooVnHaw9YkbKbWxssHewWCyoVquxgVoWjoR5GSmp+D/QwlRDC1MNLUw1tDDV0MJUw/Zc0TzJxXLfam0VDocpl8tRMBjkLfJ9ReGI4c9eX18zUb1ej7f+iyFqOBy+WwNYg8HMwWpAFsLCTk9P2Z/FavozCw0uVKFQ+CuSWIMhYrAXsDaTgbAwpJGTJf3Lywt/koO04hEIBPiTHKQIM1yu6XRKg8GAt7qL68JQRVOpFLPePOkErwIqZDqdfh8aPOkE28U8ln003rmJa8IwPEAUyrxsUcAVYcaOpuzZhhnhKZV5F9MKw+E1di9RLKyYTCZ0c3PjehHRvqJqaGGqoYWphhamGlqYamhhqiE8V7Sa3H61aW6cDxE5+rduHE2CsTyBl7EszlgJwN8IhULk9/ulC3OUiu12m92j0Si7A0Q2kUiw81N3d3e8VT5r6WPj8Zg//T50mc/npUbHipWFwdNAdGCpPTw88FbvYEsYrDT4FziDeHV1xfrO7e2tNEvNDraEIb1Q6YzNBpxkOz8/Z21ew1EfQ/Rg2OCQJaLpJRwXD9mbDaI4EoYCsrOzI/V0tiiOhMEU3dzcZCXeawVEeOZhdXzWyhA1W9tWaF/RIY6Lh1fRwlRDC1MNLUw1tDDV0MJUQwtTDS1MNbQwtSD6BauPiQIv+XdqAAAAAElFTkSuQmCC)"
   ]
  },
  {
   "cell_type": "markdown",
   "metadata": {
    "id": "Begyp8cIbEms"
   },
   "source": [
    "# Thay thế các giá trị NaN bằng giá trị 0"
   ]
  },
  {
   "cell_type": "code",
   "execution_count": null,
   "metadata": {
    "id": "11cW-s0caHLA"
   },
   "outputs": [],
   "source": [
    "df_with_na_imputed =  #code ở đây"
   ]
  }
 ],
 "metadata": {
  "colab": {
   "provenance": []
  },
  "kernelspec": {
   "display_name": "Python 3 (ipykernel)",
   "language": "python",
   "name": "python3"
  },
  "language_info": {
   "codemirror_mode": {
    "name": "ipython",
    "version": 3
   },
   "file_extension": ".py",
   "mimetype": "text/x-python",
   "name": "python",
   "nbconvert_exporter": "python",
   "pygments_lexer": "ipython3",
   "version": "3.10.9"
  }
 },
 "nbformat": 4,
 "nbformat_minor": 1
}
