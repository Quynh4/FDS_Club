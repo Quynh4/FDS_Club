{
 "cells": [
  {
   "cell_type": "code",
   "execution_count": 17,
   "id": "e82b2b1e-dfef-46f0-8b80-3b1d2730dff4",
   "metadata": {},
   "outputs": [],
   "source": [
    "import  pandas as pd\n",
    "import random"
   ]
  },
  {
   "cell_type": "code",
   "execution_count": 2,
   "id": "e26644c9-bc97-4816-8bac-a5bfe95063b3",
   "metadata": {},
   "outputs": [],
   "source": [
    "import torch"
   ]
  },
  {
   "cell_type": "code",
   "execution_count": 4,
   "id": "899e149d-346e-4551-acba-9c4893ab0f3b",
   "metadata": {},
   "outputs": [
    {
     "name": "stdout",
     "output_type": "stream",
     "text": [
      "Collecting pyarrow\n",
      "  Downloading pyarrow-12.0.0-cp310-cp310-win_amd64.whl (21.5 MB)\n",
      "     ---------------------------------------- 21.5/21.5 MB 2.3 MB/s eta 0:00:00\n",
      "Requirement already satisfied: numpy>=1.16.6 in d:\\new folder\\lib\\site-packages (from pyarrow) (1.23.5)\n",
      "Installing collected packages: pyarrow\n",
      "Successfully installed pyarrow-12.0.0\n"
     ]
    }
   ],
   "source": [
    "!pip install pyarrow"
   ]
  },
  {
   "cell_type": "code",
   "execution_count": 5,
   "id": "fe0db5b6-9421-4481-9495-8b59d775391c",
   "metadata": {},
   "outputs": [],
   "source": [
    "data = pd.read_parquet('C:\\\\Users\\\\NITRO 5\\\\Downloads\\\\FDS\\\\phase-1\\\\prob-1\\\\raw_train.parquet')\n"
   ]
  },
  {
   "cell_type": "code",
   "execution_count": 6,
   "id": "d9b4ce83-cba2-41e0-a42e-5ab1289309d5",
   "metadata": {},
   "outputs": [],
   "source": [
    "df = pd.DataFrame(data)"
   ]
  },
  {
   "cell_type": "code",
   "execution_count": 7,
   "id": "6f0586af-1b34-4e01-9913-1892d39c46c6",
   "metadata": {},
   "outputs": [
    {
     "data": {
      "text/html": [
       "<div>\n",
       "<style scoped>\n",
       "    .dataframe tbody tr th:only-of-type {\n",
       "        vertical-align: middle;\n",
       "    }\n",
       "\n",
       "    .dataframe tbody tr th {\n",
       "        vertical-align: top;\n",
       "    }\n",
       "\n",
       "    .dataframe thead th {\n",
       "        text-align: right;\n",
       "    }\n",
       "</style>\n",
       "<table border=\"1\" class=\"dataframe\">\n",
       "  <thead>\n",
       "    <tr style=\"text-align: right;\">\n",
       "      <th></th>\n",
       "      <th>feature1</th>\n",
       "      <th>feature2</th>\n",
       "      <th>feature3</th>\n",
       "      <th>feature4</th>\n",
       "      <th>feature5</th>\n",
       "      <th>feature6</th>\n",
       "      <th>feature7</th>\n",
       "      <th>feature8</th>\n",
       "      <th>feature9</th>\n",
       "      <th>feature10</th>\n",
       "      <th>feature11</th>\n",
       "      <th>feature12</th>\n",
       "      <th>feature13</th>\n",
       "      <th>label</th>\n",
       "      <th>feature14</th>\n",
       "      <th>feature15</th>\n",
       "      <th>feature16</th>\n",
       "    </tr>\n",
       "  </thead>\n",
       "  <tbody>\n",
       "    <tr>\n",
       "      <th>0</th>\n",
       "      <td>Site engineer</td>\n",
       "      <td>grocery_pos</td>\n",
       "      <td>8.60</td>\n",
       "      <td>48230</td>\n",
       "      <td>40.213439</td>\n",
       "      <td>-85.203756</td>\n",
       "      <td>47583</td>\n",
       "      <td>42.508293</td>\n",
       "      <td>-83.168004</td>\n",
       "      <td>65.596062</td>\n",
       "      <td>3</td>\n",
       "      <td>5</td>\n",
       "      <td>1</td>\n",
       "      <td>1</td>\n",
       "      <td>8.017865</td>\n",
       "      <td>1.028822</td>\n",
       "      <td>58.911132</td>\n",
       "    </tr>\n",
       "    <tr>\n",
       "      <th>1</th>\n",
       "      <td>Site engineer</td>\n",
       "      <td>gas_transport</td>\n",
       "      <td>316.84</td>\n",
       "      <td>48230</td>\n",
       "      <td>44.379391</td>\n",
       "      <td>-82.859721</td>\n",
       "      <td>47583</td>\n",
       "      <td>42.661838</td>\n",
       "      <td>-81.966510</td>\n",
       "      <td>64.728795</td>\n",
       "      <td>6</td>\n",
       "      <td>5</td>\n",
       "      <td>1</td>\n",
       "      <td>1</td>\n",
       "      <td>11.768568</td>\n",
       "      <td>1.106217</td>\n",
       "      <td>64.431017</td>\n",
       "    </tr>\n",
       "    <tr>\n",
       "      <th>2</th>\n",
       "      <td>Site engineer</td>\n",
       "      <td>grocery_pos</td>\n",
       "      <td>294.89</td>\n",
       "      <td>48230</td>\n",
       "      <td>42.950657</td>\n",
       "      <td>-84.935542</td>\n",
       "      <td>47583</td>\n",
       "      <td>42.580470</td>\n",
       "      <td>-82.408529</td>\n",
       "      <td>65.434606</td>\n",
       "      <td>3</td>\n",
       "      <td>5</td>\n",
       "      <td>1</td>\n",
       "      <td>1</td>\n",
       "      <td>7.996359</td>\n",
       "      <td>0.899881</td>\n",
       "      <td>57.545348</td>\n",
       "    </tr>\n",
       "    <tr>\n",
       "      <th>3</th>\n",
       "      <td>Site engineer</td>\n",
       "      <td>shopping_net</td>\n",
       "      <td>831.08</td>\n",
       "      <td>48230</td>\n",
       "      <td>39.372111</td>\n",
       "      <td>-84.893973</td>\n",
       "      <td>47583</td>\n",
       "      <td>41.948688</td>\n",
       "      <td>-83.919881</td>\n",
       "      <td>64.990422</td>\n",
       "      <td>23</td>\n",
       "      <td>6</td>\n",
       "      <td>1</td>\n",
       "      <td>1</td>\n",
       "      <td>8.767720</td>\n",
       "      <td>1.062966</td>\n",
       "      <td>62.681169</td>\n",
       "    </tr>\n",
       "    <tr>\n",
       "      <th>4</th>\n",
       "      <td>Site engineer</td>\n",
       "      <td>health_fitness</td>\n",
       "      <td>1063.84</td>\n",
       "      <td>48230</td>\n",
       "      <td>41.227499</td>\n",
       "      <td>-83.228392</td>\n",
       "      <td>47583</td>\n",
       "      <td>41.544743</td>\n",
       "      <td>-82.123365</td>\n",
       "      <td>65.316083</td>\n",
       "      <td>23</td>\n",
       "      <td>6</td>\n",
       "      <td>1</td>\n",
       "      <td>1</td>\n",
       "      <td>8.816222</td>\n",
       "      <td>0.722446</td>\n",
       "      <td>63.084486</td>\n",
       "    </tr>\n",
       "    <tr>\n",
       "      <th>...</th>\n",
       "      <td>...</td>\n",
       "      <td>...</td>\n",
       "      <td>...</td>\n",
       "      <td>...</td>\n",
       "      <td>...</td>\n",
       "      <td>...</td>\n",
       "      <td>...</td>\n",
       "      <td>...</td>\n",
       "      <td>...</td>\n",
       "      <td>...</td>\n",
       "      <td>...</td>\n",
       "      <td>...</td>\n",
       "      <td>...</td>\n",
       "      <td>...</td>\n",
       "      <td>...</td>\n",
       "      <td>...</td>\n",
       "      <td>...</td>\n",
       "    </tr>\n",
       "    <tr>\n",
       "      <th>134196</th>\n",
       "      <td>Minerals surveyor</td>\n",
       "      <td>health_fitness</td>\n",
       "      <td>132.98</td>\n",
       "      <td>32210</td>\n",
       "      <td>30.570251</td>\n",
       "      <td>-80.001638</td>\n",
       "      <td>847415</td>\n",
       "      <td>29.725058</td>\n",
       "      <td>-81.319645</td>\n",
       "      <td>31.785767</td>\n",
       "      <td>23</td>\n",
       "      <td>4</td>\n",
       "      <td>2</td>\n",
       "      <td>0</td>\n",
       "      <td>6.930241</td>\n",
       "      <td>0.585582</td>\n",
       "      <td>61.754724</td>\n",
       "    </tr>\n",
       "    <tr>\n",
       "      <th>134197</th>\n",
       "      <td>Minerals surveyor</td>\n",
       "      <td>health_fitness</td>\n",
       "      <td>2.19</td>\n",
       "      <td>32210</td>\n",
       "      <td>29.150371</td>\n",
       "      <td>-81.719344</td>\n",
       "      <td>847415</td>\n",
       "      <td>31.233001</td>\n",
       "      <td>-81.786202</td>\n",
       "      <td>30.800002</td>\n",
       "      <td>23</td>\n",
       "      <td>3</td>\n",
       "      <td>2</td>\n",
       "      <td>0</td>\n",
       "      <td>7.432464</td>\n",
       "      <td>0.424970</td>\n",
       "      <td>61.681467</td>\n",
       "    </tr>\n",
       "    <tr>\n",
       "      <th>134198</th>\n",
       "      <td>Minerals surveyor</td>\n",
       "      <td>kids_pets</td>\n",
       "      <td>3.16</td>\n",
       "      <td>32210</td>\n",
       "      <td>34.212880</td>\n",
       "      <td>-80.634963</td>\n",
       "      <td>847415</td>\n",
       "      <td>29.874284</td>\n",
       "      <td>-81.624591</td>\n",
       "      <td>30.641819</td>\n",
       "      <td>23</td>\n",
       "      <td>6</td>\n",
       "      <td>2</td>\n",
       "      <td>0</td>\n",
       "      <td>7.640235</td>\n",
       "      <td>0.288538</td>\n",
       "      <td>65.003013</td>\n",
       "    </tr>\n",
       "    <tr>\n",
       "      <th>134199</th>\n",
       "      <td>Minerals surveyor</td>\n",
       "      <td>entertainment</td>\n",
       "      <td>7.12</td>\n",
       "      <td>32210</td>\n",
       "      <td>28.515650</td>\n",
       "      <td>-80.139073</td>\n",
       "      <td>847415</td>\n",
       "      <td>29.502540</td>\n",
       "      <td>-82.612350</td>\n",
       "      <td>30.809930</td>\n",
       "      <td>20</td>\n",
       "      <td>5</td>\n",
       "      <td>2</td>\n",
       "      <td>0</td>\n",
       "      <td>4.193106</td>\n",
       "      <td>0.489005</td>\n",
       "      <td>66.160873</td>\n",
       "    </tr>\n",
       "    <tr>\n",
       "      <th>134200</th>\n",
       "      <td>Minerals surveyor</td>\n",
       "      <td>entertainment</td>\n",
       "      <td>7.51</td>\n",
       "      <td>32210</td>\n",
       "      <td>31.842962</td>\n",
       "      <td>-80.307771</td>\n",
       "      <td>847415</td>\n",
       "      <td>29.506603</td>\n",
       "      <td>-80.806227</td>\n",
       "      <td>31.129042</td>\n",
       "      <td>21</td>\n",
       "      <td>2</td>\n",
       "      <td>2</td>\n",
       "      <td>0</td>\n",
       "      <td>3.082634</td>\n",
       "      <td>0.689734</td>\n",
       "      <td>67.800253</td>\n",
       "    </tr>\n",
       "  </tbody>\n",
       "</table>\n",
       "<p>134201 rows × 17 columns</p>\n",
       "</div>"
      ],
      "text/plain": [
       "                 feature1        feature2  feature3  feature4   feature5  \\\n",
       "0           Site engineer     grocery_pos      8.60     48230  40.213439   \n",
       "1           Site engineer   gas_transport    316.84     48230  44.379391   \n",
       "2           Site engineer     grocery_pos    294.89     48230  42.950657   \n",
       "3           Site engineer    shopping_net    831.08     48230  39.372111   \n",
       "4           Site engineer  health_fitness   1063.84     48230  41.227499   \n",
       "...                   ...             ...       ...       ...        ...   \n",
       "134196  Minerals surveyor  health_fitness    132.98     32210  30.570251   \n",
       "134197  Minerals surveyor  health_fitness      2.19     32210  29.150371   \n",
       "134198  Minerals surveyor       kids_pets      3.16     32210  34.212880   \n",
       "134199  Minerals surveyor   entertainment      7.12     32210  28.515650   \n",
       "134200  Minerals surveyor   entertainment      7.51     32210  31.842962   \n",
       "\n",
       "         feature6  feature7   feature8   feature9  feature10  feature11  \\\n",
       "0      -85.203756     47583  42.508293 -83.168004  65.596062          3   \n",
       "1      -82.859721     47583  42.661838 -81.966510  64.728795          6   \n",
       "2      -84.935542     47583  42.580470 -82.408529  65.434606          3   \n",
       "3      -84.893973     47583  41.948688 -83.919881  64.990422         23   \n",
       "4      -83.228392     47583  41.544743 -82.123365  65.316083         23   \n",
       "...           ...       ...        ...        ...        ...        ...   \n",
       "134196 -80.001638    847415  29.725058 -81.319645  31.785767         23   \n",
       "134197 -81.719344    847415  31.233001 -81.786202  30.800002         23   \n",
       "134198 -80.634963    847415  29.874284 -81.624591  30.641819         23   \n",
       "134199 -80.139073    847415  29.502540 -82.612350  30.809930         20   \n",
       "134200 -80.307771    847415  29.506603 -80.806227  31.129042         21   \n",
       "\n",
       "        feature12  feature13  label  feature14  feature15  feature16  \n",
       "0               5          1      1   8.017865   1.028822  58.911132  \n",
       "1               5          1      1  11.768568   1.106217  64.431017  \n",
       "2               5          1      1   7.996359   0.899881  57.545348  \n",
       "3               6          1      1   8.767720   1.062966  62.681169  \n",
       "4               6          1      1   8.816222   0.722446  63.084486  \n",
       "...           ...        ...    ...        ...        ...        ...  \n",
       "134196          4          2      0   6.930241   0.585582  61.754724  \n",
       "134197          3          2      0   7.432464   0.424970  61.681467  \n",
       "134198          6          2      0   7.640235   0.288538  65.003013  \n",
       "134199          5          2      0   4.193106   0.489005  66.160873  \n",
       "134200          2          2      0   3.082634   0.689734  67.800253  \n",
       "\n",
       "[134201 rows x 17 columns]"
      ]
     },
     "execution_count": 7,
     "metadata": {},
     "output_type": "execute_result"
    }
   ],
   "source": [
    "df"
   ]
  },
  {
   "cell_type": "code",
   "execution_count": 9,
   "id": "e058be8f-5012-4152-849a-9c3ca96c9e7f",
   "metadata": {},
   "outputs": [
    {
     "data": {
      "text/plain": [
       "{0, 1}"
      ]
     },
     "execution_count": 9,
     "metadata": {},
     "output_type": "execute_result"
    }
   ],
   "source": [
    "set(df.label)"
   ]
  },
  {
   "cell_type": "code",
   "execution_count": 12,
   "id": "2f713f9f-0d74-4644-a771-be42469bc8a6",
   "metadata": {},
   "outputs": [
    {
     "name": "stdout",
     "output_type": "stream",
     "text": [
      "0:  125704\n",
      "1:  8497\n"
     ]
    }
   ],
   "source": [
    "count = df.label\n",
    "sm_count = set(count)\n",
    "for sm_count in set (count):\n",
    "    print(str(sm_count)+': ', list(count).count(sm_count))"
   ]
  },
  {
   "cell_type": "code",
   "execution_count": 14,
   "id": "d2f101b7-f48c-4758-9b9a-a3b31472cd72",
   "metadata": {},
   "outputs": [
    {
     "data": {
      "text/plain": [
       "14.793927268447687"
      ]
     },
     "execution_count": 14,
     "metadata": {},
     "output_type": "execute_result"
    }
   ],
   "source": [
    "125704/8497"
   ]
  },
  {
   "cell_type": "code",
   "execution_count": 19,
   "id": "cc702f05-a528-4a9f-9f95-bf135f7f29fe",
   "metadata": {},
   "outputs": [],
   "source": [
    "feature12 = df.feature12.values.tolist()\n",
    "random.shuffle(feature12)"
   ]
  },
  {
   "cell_type": "code",
   "execution_count": 24,
   "id": "f5edad75-7c83-4613-ab38-dc3bf2b0ef22",
   "metadata": {},
   "outputs": [
    {
     "ename": "AttributeError",
     "evalue": "'numpy.ndarray' object has no attribute 'head'",
     "output_type": "error",
     "traceback": [
      "\u001b[1;31m---------------------------------------------------------------------------\u001b[0m",
      "\u001b[1;31mAttributeError\u001b[0m                            Traceback (most recent call last)",
      "Cell \u001b[1;32mIn[24], line 13\u001b[0m\n\u001b[0;32m     11\u001b[0m dt_model\u001b[38;5;241m.\u001b[39mfit(X_train, y_train)\n\u001b[0;32m     12\u001b[0m y_preds \u001b[38;5;241m=\u001b[39m dt_model\u001b[38;5;241m.\u001b[39mpredict(X_valid)\n\u001b[1;32m---> 13\u001b[0m pd\u001b[38;5;241m.\u001b[39mDataFrame({\u001b[38;5;124m'\u001b[39m\u001b[38;5;124my_valid\u001b[39m\u001b[38;5;124m'\u001b[39m: y_valid\u001b[38;5;241m.\u001b[39mhead(), \u001b[38;5;124m'\u001b[39m\u001b[38;5;124my_preds\u001b[39m\u001b[38;5;124m'\u001b[39m: \u001b[43my_preds\u001b[49m\u001b[38;5;241;43m.\u001b[39;49m\u001b[43mhead\u001b[49m()})\n",
      "\u001b[1;31mAttributeError\u001b[0m: 'numpy.ndarray' object has no attribute 'head'"
     ]
    }
   ],
   "source": [
    "features = ['feature3','feature4','feature4','feature5','feature6','feature7', 'feature8']\n",
    "X = data[features]\n",
    "y = data['label']\n",
    "\n",
    "from sklearn.model_selection import train_test_split\n",
    "X_train, X_valid, y_train, y_valid = train_test_split(X, y, train_size=0.8, test_size=0.2, random_state=0)\n",
    "\n",
    "from sklearn.tree import DecisionTreeRegressor\n",
    "dt_model = DecisionTreeRegressor(random_state=1)\n",
    "\n",
    "dt_model.fit(X_train, y_train)\n",
    "y_preds = dt_model.predict(X_valid)\n",
    "pd.DataFrame({'y_valid': y_valid.head(), 'y_preds': y_preds.head()})"
   ]
  },
  {
   "cell_type": "code",
   "execution_count": 22,
   "id": "63e36f66-c0ff-4eea-be9e-19091932d878",
   "metadata": {},
   "outputs": [
    {
     "ename": "IndexError",
     "evalue": "invalid index to scalar variable.",
     "output_type": "error",
     "traceback": [
      "\u001b[1;31m---------------------------------------------------------------------------\u001b[0m",
      "\u001b[1;31mIndexError\u001b[0m                                Traceback (most recent call last)",
      "Cell \u001b[1;32mIn[22], line 3\u001b[0m\n\u001b[0;32m      1\u001b[0m count \u001b[38;5;241m=\u001b[39m \u001b[38;5;241m0\u001b[39m\n\u001b[0;32m      2\u001b[0m \u001b[38;5;28;01mfor\u001b[39;00m sm_data \u001b[38;5;129;01min\u001b[39;00m y_preds:\n\u001b[1;32m----> 3\u001b[0m     \u001b[38;5;28;01mif\u001b[39;00m \u001b[43msm_data\u001b[49m\u001b[43m[\u001b[49m\u001b[38;5;241;43m0\u001b[39;49m\u001b[43m]\u001b[49m \u001b[38;5;241m==\u001b[39m my_knn\u001b[38;5;241m.\u001b[39mpredict(sm_data[\u001b[38;5;241m1\u001b[39m],k)[\u001b[38;5;241m0\u001b[39m][\u001b[38;5;241m0\u001b[39m]:\n\u001b[0;32m      4\u001b[0m         count \u001b[38;5;241m+\u001b[39m\u001b[38;5;241m=\u001b[39m \u001b[38;5;241m1\u001b[39m\n\u001b[0;32m      5\u001b[0m \u001b[38;5;28mprint\u001b[39m(\u001b[38;5;124m'\u001b[39m\u001b[38;5;124macc:\u001b[39m\u001b[38;5;124m'\u001b[39m,count\u001b[38;5;241m/\u001b[39m\u001b[38;5;28mlen\u001b[39m(test_data) \u001b[38;5;241m*\u001b[39m \u001b[38;5;241m100\u001b[39m,\u001b[38;5;124m'\u001b[39m\u001b[38;5;124m%\u001b[39m\u001b[38;5;124m'\u001b[39m)\n",
      "\u001b[1;31mIndexError\u001b[0m: invalid index to scalar variable."
     ]
    }
   ],
   "source": [
    "count = 0\n",
    "for sm_data in y_preds:\n",
    "    if sm_data == y_preds[0]:\n",
    "        count += 1\n",
    "print('acc:',count/len(test_data) * 100,'%')"
   ]
  }
 ],
 "metadata": {
  "kernelspec": {
   "display_name": "Python 3 (ipykernel)",
   "language": "python",
   "name": "python3"
  },
  "language_info": {
   "codemirror_mode": {
    "name": "ipython",
    "version": 3
   },
   "file_extension": ".py",
   "mimetype": "text/x-python",
   "name": "python",
   "nbconvert_exporter": "python",
   "pygments_lexer": "ipython3",
   "version": "3.10.9"
  }
 },
 "nbformat": 4,
 "nbformat_minor": 5
}
